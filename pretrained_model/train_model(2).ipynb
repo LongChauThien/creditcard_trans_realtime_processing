{
  "cells": [
    {
      "cell_type": "markdown",
      "metadata": {
        "id": "20tOfoiXLkmS"
      },
      "source": [
        "# Set up"
      ]
    },
    {
      "cell_type": "code",
      "execution_count": 1,
      "metadata": {
        "colab": {
          "base_uri": "https://localhost:8080/"
        },
        "id": "g0vw6Lt2QdkN",
        "outputId": "1ec9d730-dde7-4221-cd06-8ead67714951"
      },
      "outputs": [
        {
          "output_type": "stream",
          "name": "stdout",
          "text": [
            "Mounted at /content/drive\n"
          ]
        }
      ],
      "source": [
        "from google.colab import drive\n",
        "drive.mount('/content/drive')"
      ]
    },
    {
      "cell_type": "code",
      "execution_count": 2,
      "metadata": {
        "colab": {
          "base_uri": "https://localhost:8080/"
        },
        "collapsed": true,
        "id": "tORBSECXG2fo",
        "outputId": "1d3294cc-285b-43b0-c7ff-a29e54e658f9"
      },
      "outputs": [
        {
          "output_type": "stream",
          "name": "stdout",
          "text": [
            "Collecting pyspark\n",
            "  Downloading pyspark-3.5.1.tar.gz (317.0 MB)\n",
            "\u001b[2K     \u001b[90m━━━━━━━━━━━━━━━━━━━━━━━━━━━━━━━━━━━━━━━━\u001b[0m \u001b[32m317.0/317.0 MB\u001b[0m \u001b[31m1.9 MB/s\u001b[0m eta \u001b[36m0:00:00\u001b[0m\n",
            "\u001b[?25h  Preparing metadata (setup.py) ... \u001b[?25l\u001b[?25hdone\n",
            "Requirement already satisfied: py4j==0.10.9.7 in /usr/local/lib/python3.10/dist-packages (from pyspark) (0.10.9.7)\n",
            "Building wheels for collected packages: pyspark\n",
            "  Building wheel for pyspark (setup.py) ... \u001b[?25l\u001b[?25hdone\n",
            "  Created wheel for pyspark: filename=pyspark-3.5.1-py2.py3-none-any.whl size=317488491 sha256=1a9105cb6fbd58d78f354c37a523fe85fee46452ed22c2a78a93fc37aef10693\n",
            "  Stored in directory: /root/.cache/pip/wheels/80/1d/60/2c256ed38dddce2fdd93be545214a63e02fbd8d74fb0b7f3a6\n",
            "Successfully built pyspark\n",
            "Installing collected packages: pyspark\n",
            "Successfully installed pyspark-3.5.1\n"
          ]
        }
      ],
      "source": [
        "!pip install pyspark"
      ]
    },
    {
      "cell_type": "code",
      "execution_count": 3,
      "metadata": {
        "colab": {
          "base_uri": "https://localhost:8080/"
        },
        "id": "Pakuit2jQe3L",
        "outputId": "c299e00e-7b2c-416b-d39c-5ad180b0c319"
      },
      "outputs": [
        {
          "output_type": "stream",
          "name": "stdout",
          "text": [
            "/content/drive/MyDrive/DS200/Project\n"
          ]
        }
      ],
      "source": [
        "%cd /content/drive/MyDrive/DS200/Project"
      ]
    },
    {
      "cell_type": "code",
      "execution_count": 4,
      "metadata": {
        "colab": {
          "base_uri": "https://localhost:8080/"
        },
        "id": "_YG4l5srs-it",
        "outputId": "8cbc2afd-50f3-4080-c5af-cca1772bef56"
      },
      "outputs": [
        {
          "output_type": "stream",
          "name": "stdout",
          "text": [
            "'anomalydetection_2 (1).ipynb'\t DL_Model_2\t    lib\t\t      Model.ipynb\n",
            " config\t\t\t\t DL_Model_3.h5\t    LoadModel.ipynb   Pipe\n",
            " creditcard.csv\t\t\t DL_Model_3.keras   LoadPipe.ipynb    SMOTE_Li_BestModel_RandomFR\n",
            " DL_Model\t\t\t DL_Model.h5\t    logs\n"
          ]
        }
      ],
      "source": [
        "!ls"
      ]
    },
    {
      "cell_type": "code",
      "execution_count": 5,
      "metadata": {
        "colab": {
          "base_uri": "https://localhost:8080/"
        },
        "id": "fm5LbiEtv_6s",
        "outputId": "87374591-7e5c-418d-89b1-6bf9a9951acb"
      },
      "outputs": [
        {
          "output_type": "stream",
          "name": "stdout",
          "text": [
            "Collecting findspark\n",
            "  Downloading findspark-2.0.1-py2.py3-none-any.whl (4.4 kB)\n",
            "Installing collected packages: findspark\n",
            "Successfully installed findspark-2.0.1\n"
          ]
        }
      ],
      "source": [
        "!pip install findspark"
      ]
    },
    {
      "cell_type": "code",
      "execution_count": 6,
      "metadata": {
        "colab": {
          "base_uri": "https://localhost:8080/"
        },
        "id": "ZG2oUktQthzI",
        "outputId": "97d8035f-d418-4b20-8719-07662e9b3a47"
      },
      "outputs": [
        {
          "output_type": "execute_result",
          "data": {
            "text/plain": [
              "<module 'lib.modelling' from '/content/drive/MyDrive/DS200/Project/lib/modelling.py'>"
            ]
          },
          "metadata": {},
          "execution_count": 6
        }
      ],
      "source": [
        "import os\n",
        "import random\n",
        "import pandas as pd\n",
        "pd.options.display.max_columns=None\n",
        "pd.options.display.max_rows=None\n",
        "\n",
        "#import toolkits\n",
        "from lib import util\n",
        "from lib import logger\n",
        "\n",
        "def initialize_spark(app_name='spark_pipeline'):\n",
        "    import findspark\n",
        "    #spark path using default value\n",
        "    findspark.init()\n",
        "\n",
        "    import pyspark\n",
        "    # import pyarrow\n",
        "    from pyspark.sql import SQLContext\n",
        "\n",
        "    #broadcastTimeout is purposedly set to be large due to development on single machine\n",
        "    conf = pyspark.SparkConf()\\\n",
        "        .setAppName(app_name)\\\n",
        "        .setMaster('local')\\\n",
        "        .set('spark.driver.memory', '16g')\\\n",
        "        .set('spark.executor.memory', '16g')\\\n",
        "        .set('spark.executor.instances', 4)\\\n",
        "        .set('spark.executor.cores', 4)\\\n",
        "        .set('spark.driver.maxResultSize', '8g')\\\n",
        "        .set('spark.sql.shuffle.partitions', 100)\\\n",
        "        .set('spark.default.parallelism', 200)\\\n",
        "        .set('spark.sql.broadcastTimeout', 36000)\\\n",
        "        .set('spark.kryoserializer.buffer.max', '1024m')\\\n",
        "        .set('spark.sql.execution.arrow.enabled', 'false')\\\n",
        "        .set('spark.dynamicAllocation.enabled', \"False\")\\\n",
        "        .set('spark.port.maxRetries',30)\n",
        "\n",
        "    sc = pyspark.SparkContext.getOrCreate(conf)\n",
        "    spark = pyspark.sql.SparkSession(sc)\n",
        "    sqlContext = SQLContext.getOrCreate(sc)\n",
        "    return sc,spark,sqlContext\n",
        "\n",
        "from pyspark.ml import Pipeline\n",
        "from pyspark.ml.feature import StandardScaler\n",
        "from pyspark.ml.feature import VectorAssembler\n",
        "from pyspark.ml.feature import StringIndexer, VectorAssembler\n",
        "from pyspark.ml.feature import OneHotEncoder, StringIndexer, VectorAssembler\n",
        "from pyspark.sql.types import IntegerType,DecimalType\n",
        "from pyspark.sql.functions import when, lit\n",
        "from distutils.version import LooseVersion\n",
        "from importlib import reload\n",
        "import pyspark.sql.functions as func\n",
        "import pyspark.sql.types as typ\n",
        "\n",
        "from config.conf_template import Struct as Section\n",
        "from pyspark.ml.feature import OneHotEncoder\n",
        "from pyspark.ml.classification import RandomForestClassifier\n",
        "from sklearn.metrics import confusion_matrix\n",
        "from pyspark.ml.tuning import ParamGridBuilder, CrossValidator\n",
        "from pyspark.ml.evaluation import BinaryClassificationEvaluator\n",
        "\n",
        "import lib.imbalance_handler as imbalance_handle\n",
        "import lib.feature_selection as fs\n",
        "import lib.categorical_handler as ctgy\n",
        "import lib.modelling as model\n",
        "\n",
        "from pyspark.ml import Pipeline\n",
        "reload(ctgy)\n",
        "reload(fs)\n",
        "reload(imbalance_handle)\n",
        "reload(model)"
      ]
    },
    {
      "cell_type": "code",
      "execution_count": 7,
      "metadata": {
        "id": "yLD3jyb8ONa1"
      },
      "outputs": [],
      "source": [
        "import numpy as np # linear algebra\n",
        "import pyspark\n",
        "import pandas as pd # data processing, CSV file I/O (e.g. pd.read_csv)\n",
        "import tensorflow as tf\n",
        "import matplotlib.pyplot as plt\n",
        "import seaborn as sns\n",
        "from sklearn.manifold import TSNE\n",
        "from sklearn.decomposition import PCA, TruncatedSVD\n",
        "import matplotlib.patches as mpatches\n",
        "import time\n",
        "import math\n",
        "\n",
        "# Classifier Libraries\n",
        "from sklearn.linear_model import LogisticRegression\n",
        "from sklearn.svm import SVC\n",
        "from sklearn.neighbors import KNeighborsClassifier\n",
        "from sklearn.tree import DecisionTreeClassifier\n",
        "from sklearn.ensemble import RandomForestClassifier\n",
        "import collections\n",
        "\n",
        "\n",
        "# Other Libraries\n",
        "from sklearn.model_selection import train_test_split\n",
        "from sklearn.pipeline import make_pipeline\n",
        "from imblearn.pipeline import make_pipeline as imbalanced_make_pipeline\n",
        "from imblearn.over_sampling import SMOTE\n",
        "from imblearn.under_sampling import NearMiss\n",
        "from imblearn.metrics import classification_report_imbalanced\n",
        "from sklearn.metrics import precision_score, recall_score, f1_score, roc_auc_score, accuracy_score, classification_report\n",
        "from collections import Counter\n",
        "from sklearn.model_selection import KFold, StratifiedKFold\n",
        "import warnings\n",
        "from pyspark.ml.classification import LogisticRegression\n",
        "\n",
        "from pyspark.ml.linalg import Vectors\n",
        "from pyspark.ml.feature import VectorAssembler\n",
        "from pyspark.ml import Pipeline\n",
        "from sklearn.metrics import roc_auc_score, roc_curve\n",
        "\n",
        "from pyspark.ml.feature import StringIndexer, VectorIndexer, StringIndexerModel, IndexToString"
      ]
    },
    {
      "cell_type": "code",
      "execution_count": 8,
      "metadata": {
        "colab": {
          "base_uri": "https://localhost:8080/"
        },
        "id": "NUXnyf82A6l1",
        "outputId": "657acc61-4a5c-48be-e181-3ea4bc25b449"
      },
      "outputs": [
        {
          "output_type": "stream",
          "name": "stderr",
          "text": [
            "/usr/lib/python3.10/subprocess.py:1796: RuntimeWarning: os.fork() was called. os.fork() is incompatible with multithreaded code, and JAX is multithreaded, so this will likely lead to a deadlock.\n",
            "  self.pid = _posixsubprocess.fork_exec(\n",
            "/usr/local/lib/python3.10/dist-packages/pyspark/sql/context.py:158: FutureWarning: Deprecated in 3.0.0. Use SparkSession.builder.getOrCreate() instead.\n",
            "  warnings.warn(\n"
          ]
        }
      ],
      "source": [
        "sc,spark,sqlContext = initialize_spark()"
      ]
    },
    {
      "cell_type": "code",
      "execution_count": 9,
      "metadata": {
        "id": "VKZqzcJ9CD_r"
      },
      "outputs": [],
      "source": [
        "# sparkContext=spark.sparkContext"
      ]
    },
    {
      "cell_type": "markdown",
      "metadata": {
        "id": "pmo_454T_nAQ"
      },
      "source": [
        "# Model"
      ]
    },
    {
      "cell_type": "code",
      "execution_count": null,
      "metadata": {
        "id": "qpm1adTIQGuM"
      },
      "outputs": [],
      "source": [
        "df = pd.read_csv('creditcard.csv')"
      ]
    },
    {
      "cell_type": "code",
      "execution_count": null,
      "metadata": {
        "colab": {
          "base_uri": "https://localhost:8080/"
        },
        "id": "sQl6Ts_MbwMQ",
        "outputId": "aa9618bd-51d3-4b42-b4b2-bcecb64a831d"
      },
      "outputs": [
        {
          "name": "stdout",
          "output_type": "stream",
          "text": [
            "No Frauds 99.83 % of the dataset\n",
            "Frauds 0.17 % of the dataset\n"
          ]
        }
      ],
      "source": [
        "print('No Frauds', round(df['Class'].value_counts()[0]/len(df) * 100,2), '% of the dataset')\n",
        "print('Frauds', round(df['Class'].value_counts()[1]/len(df) * 100,2), '% of the dataset')"
      ]
    },
    {
      "cell_type": "code",
      "execution_count": null,
      "metadata": {
        "colab": {
          "base_uri": "https://localhost:8080/",
          "height": 513
        },
        "collapsed": true,
        "id": "14jXKFAhbyIe",
        "outputId": "890431a0-6c03-455f-90b2-2403c49efd2c"
      },
      "outputs": [
        {
          "data": {
            "text/plain": [
              "Text(0.5, 1.0, 'Class Distributions \\n (0: No Fraud || 1: Fraud)')"
            ]
          },
          "execution_count": 9,
          "metadata": {},
          "output_type": "execute_result"
        },
        {
          "data": {
            "image/png": "[encoded data removed]",
            "text/plain": [
              "<Figure size 640x480 with 1 Axes>"
            ]
          },
          "metadata": {},
          "output_type": "display_data"
        }
      ],
      "source": [
        "colors = [\"#0101DF\", \"#DF0101\"]\n",
        "sns.countplot(df, x = 'Class', palette=colors)\n",
        "plt.title('Class Distributions \\n (0: No Fraud || 1: Fraud)', fontsize=14)"
      ]
    },
    {
      "cell_type": "code",
      "execution_count": null,
      "metadata": {
        "id": "7eoIrj6rJC2J"
      },
      "outputs": [],
      "source": [
        "t = list(df.columns)\n",
        "t.remove('Class')"
      ]
    },
    {
      "cell_type": "code",
      "execution_count": null,
      "metadata": {
        "colab": {
          "base_uri": "https://localhost:8080/",
          "height": 358
        },
        "id": "Wy89UKv6cOwi",
        "outputId": "12ced17b-4b89-4cf7-d2ac-936c0626912e"
      },
      "outputs": [
        {
          "data": {
            "image/png": "[encoded data removed]",
            "text/plain": [
              "<Figure size 1800x400 with 2 Axes>"
            ]
          },
          "metadata": {},
          "output_type": "display_data"
        }
      ],
      "source": [
        "fig, ax = plt.subplots(1, 2, figsize=(18,4))\n",
        "\n",
        "amount_val = df['Amount'].values\n",
        "time_val = df['Time'].values\n",
        "\n",
        "sns.distplot(amount_val, ax=ax[0], color='r')\n",
        "ax[0].set_title('Distribution of Transaction Amount', fontsize=14)\n",
        "ax[0].set_xlim([min(amount_val), max(amount_val)])\n",
        "\n",
        "sns.distplot(time_val, ax=ax[1], color='b')\n",
        "ax[1].set_title('Distribution of Transaction Time', fontsize=14)\n",
        "ax[1].set_xlim([min(time_val), max(time_val)])\n",
        "\n",
        "\n",
        "\n",
        "plt.show()"
      ]
    },
    {
      "cell_type": "code",
      "execution_count": null,
      "metadata": {
        "id": "4Gev3q3bcW1Q"
      },
      "outputs": [],
      "source": [
        "from sklearn.preprocessing import StandardScaler, RobustScaler\n",
        "\n",
        "# RobustScaler is less prone to outliers.\n",
        "\n",
        "# std_scaler = StandardScaler()\n",
        "rob_scaler = RobustScaler()\n",
        "df['scaled_time'] = rob_scaler.fit_transform(df['Time'].values.reshape(-1,1))\n",
        "df['scaled_amount'] = rob_scaler.fit_transform(df['Amount'].values.reshape(-1,1))\n",
        "\n",
        "\n",
        "df.drop(['Time','Amount'], axis=1, inplace=True)"
      ]
    },
    {
      "cell_type": "code",
      "execution_count": null,
      "metadata": {
        "colab": {
          "base_uri": "https://localhost:8080/",
          "height": 1000
        },
        "id": "jSnj0LqRIaM-",
        "outputId": "31906281-7e12-4e65-bc20-9dbc29de82bd"
      },
      "outputs": [
        {
          "data": {
            "image/png": "[encoded data removed]",
            "text/plain": [
              "<Figure size 1350x4000 with 30 Axes>"
            ]
          },
          "metadata": {},
          "output_type": "display_data"
        }
      ],
      "source": [
        "# Comparison of feature distributions for different target classes\n",
        "# data_val = pd.concat([X_val, y_val], axis = 1)\n",
        "data_val_0, data_val_1 = df[df['Class'] == 0], df[df['Class'] == 1]\n",
        "t = list(df.columns)\n",
        "t.remove('Class')\n",
        "cols, ncols = t, 3\n",
        "nrows = math.ceil(len(cols) / ncols)\n",
        "fig, ax = plt.subplots(nrows, ncols, figsize = (4.5 * ncols, 4 * nrows))\n",
        "for i in range(len(cols)):\n",
        "    sns.kdeplot(data_val_0[cols[i]], ax = ax[i // ncols, i % ncols])\n",
        "    sns.kdeplot(data_val_1[cols[i]], ax = ax[i // ncols, i % ncols])\n",
        "    if i % ncols != 0:\n",
        "        ax[i // ncols, i % ncols].set_ylabel(\" \")\n",
        "plt.tight_layout()\n",
        "plt.show()"
      ]
    },
    {
      "cell_type": "code",
      "execution_count": null,
      "metadata": {
        "colab": {
          "base_uri": "https://localhost:8080/",
          "height": 226
        },
        "collapsed": true,
        "id": "5gCZmLwWmqbM",
        "outputId": "6666d857-baca-4af4-d030-f4f9b889ba77"
      },
      "outputs": [
        {
          "output_type": "execute_result",
          "data": {
            "text/plain": [
              "   scaled_amount  scaled_time        V1        V2        V3        V4  \\\n",
              "0       1.783274    -0.994983 -1.359807 -0.072781  2.536347  1.378155   \n",
              "1      -0.269825    -0.994983  1.191857  0.266151  0.166480  0.448154   \n",
              "2       4.983721    -0.994972 -1.358354 -1.340163  1.773209  0.379780   \n",
              "3       1.418291    -0.994972 -0.966272 -0.185226  1.792993 -0.863291   \n",
              "4       0.670579    -0.994960 -1.158233  0.877737  1.548718  0.403034   \n",
              "\n",
              "         V5        V6        V7        V8        V9       V10       V11  \\\n",
              "0 -0.338321  0.462388  0.239599  0.098698  0.363787  0.090794 -0.551600   \n",
              "1  0.060018 -0.082361 -0.078803  0.085102 -0.255425 -0.166974  1.612727   \n",
              "2 -0.503198  1.800499  0.791461  0.247676 -1.514654  0.207643  0.624501   \n",
              "3 -0.010309  1.247203  0.237609  0.377436 -1.387024 -0.054952 -0.226487   \n",
              "4 -0.407193  0.095921  0.592941 -0.270533  0.817739  0.753074 -0.822843   \n",
              "\n",
              "        V12       V13       V14       V15       V16       V17       V18  \\\n",
              "0 -0.617801 -0.991390 -0.311169  1.468177 -0.470401  0.207971  0.025791   \n",
              "1  1.065235  0.489095 -0.143772  0.635558  0.463917 -0.114805 -0.183361   \n",
              "2  0.066084  0.717293 -0.165946  2.345865 -2.890083  1.109969 -0.121359   \n",
              "3  0.178228  0.507757 -0.287924 -0.631418 -1.059647 -0.684093  1.965775   \n",
              "4  0.538196  1.345852 -1.119670  0.175121 -0.451449 -0.237033 -0.038195   \n",
              "\n",
              "        V19       V20       V21       V22       V23       V24       V25  \\\n",
              "0  0.403993  0.251412 -0.018307  0.277838 -0.110474  0.066928  0.128539   \n",
              "1 -0.145783 -0.069083 -0.225775 -0.638672  0.101288 -0.339846  0.167170   \n",
              "2 -2.261857  0.524980  0.247998  0.771679  0.909412 -0.689281 -0.327642   \n",
              "3 -1.232622 -0.208038 -0.108300  0.005274 -0.190321 -1.175575  0.647376   \n",
              "4  0.803487  0.408542 -0.009431  0.798278 -0.137458  0.141267 -0.206010   \n",
              "\n",
              "        V26       V27       V28  Class  \n",
              "0 -0.189115  0.133558 -0.021053      0  \n",
              "1  0.125895 -0.008983  0.014724      0  \n",
              "2 -0.139097 -0.055353 -0.059752      0  \n",
              "3 -0.221929  0.062723  0.061458      0  \n",
              "4  0.502292  0.219422  0.215153      0  "
            ],
            "text/html": [
              "\n",
              "  <div id=\"df-c1125b9c-a91a-45ab-81fc-e6c96dda6bb9\" class=\"colab-df-container\">\n",
              "    <div>\n",
              "<style scoped>\n",
              "    .dataframe tbody tr th:only-of-type {\n",
              "        vertical-align: middle;\n",
              "    }\n",
              "\n",
              "    .dataframe tbody tr th {\n",
              "        vertical-align: top;\n",
              "    }\n",
              "\n",
              "    .dataframe thead th {\n",
              "        text-align: right;\n",
              "    }\n",
              "</style>\n",
              "<table border=\"1\" class=\"dataframe\">\n",
              "  <thead>\n",
              "    <tr style=\"text-align: right;\">\n",
              "      <th></th>\n",
              "      <th>scaled_amount</th>\n",
              "      <th>scaled_time</th>\n",
              "      <th>V1</th>\n",
              "      <th>V2</th>\n",
              "      <th>V3</th>\n",
              "      <th>V4</th>\n",
              "      <th>V5</th>\n",
              "      <th>V6</th>\n",
              "      <th>V7</th>\n",
              "      <th>V8</th>\n",
              "      <th>V9</th>\n",
              "      <th>V10</th>\n",
              "      <th>V11</th>\n",
              "      <th>V12</th>\n",
              "      <th>V13</th>\n",
              "      <th>V14</th>\n",
              "      <th>V15</th>\n",
              "      <th>V16</th>\n",
              "      <th>V17</th>\n",
              "      <th>V18</th>\n",
              "      <th>V19</th>\n",
              "      <th>V20</th>\n",
              "      <th>V21</th>\n",
              "      <th>V22</th>\n",
              "      <th>V23</th>\n",
              "      <th>V24</th>\n",
              "      <th>V25</th>\n",
              "      <th>V26</th>\n",
              "      <th>V27</th>\n",
              "      <th>V28</th>\n",
              "      <th>Class</th>\n",
              "    </tr>\n",
              "  </thead>\n",
              "  <tbody>\n",
              "    <tr>\n",
              "      <th>0</th>\n",
              "      <td>1.783274</td>\n",
              "      <td>-0.994983</td>\n",
              "      <td>-1.359807</td>\n",
              "      <td>-0.072781</td>\n",
              "      <td>2.536347</td>\n",
              "      <td>1.378155</td>\n",
              "      <td>-0.338321</td>\n",
              "      <td>0.462388</td>\n",
              "      <td>0.239599</td>\n",
              "      <td>0.098698</td>\n",
              "      <td>0.363787</td>\n",
              "      <td>0.090794</td>\n",
              "      <td>-0.551600</td>\n",
              "      <td>-0.617801</td>\n",
              "      <td>-0.991390</td>\n",
              "      <td>-0.311169</td>\n",
              "      <td>1.468177</td>\n",
              "      <td>-0.470401</td>\n",
              "      <td>0.207971</td>\n",
              "      <td>0.025791</td>\n",
              "      <td>0.403993</td>\n",
              "      <td>0.251412</td>\n",
              "      <td>-0.018307</td>\n",
              "      <td>0.277838</td>\n",
              "      <td>-0.110474</td>\n",
              "      <td>0.066928</td>\n",
              "      <td>0.128539</td>\n",
              "      <td>-0.189115</td>\n",
              "      <td>0.133558</td>\n",
              "      <td>-0.021053</td>\n",
              "      <td>0</td>\n",
              "    </tr>\n",
              "    <tr>\n",
              "      <th>1</th>\n",
              "      <td>-0.269825</td>\n",
              "      <td>-0.994983</td>\n",
              "      <td>1.191857</td>\n",
              "      <td>0.266151</td>\n",
              "      <td>0.166480</td>\n",
              "      <td>0.448154</td>\n",
              "      <td>0.060018</td>\n",
              "      <td>-0.082361</td>\n",
              "      <td>-0.078803</td>\n",
              "      <td>0.085102</td>\n",
              "      <td>-0.255425</td>\n",
              "      <td>-0.166974</td>\n",
              "      <td>1.612727</td>\n",
              "      <td>1.065235</td>\n",
              "      <td>0.489095</td>\n",
              "      <td>-0.143772</td>\n",
              "      <td>0.635558</td>\n",
              "      <td>0.463917</td>\n",
              "      <td>-0.114805</td>\n",
              "      <td>-0.183361</td>\n",
              "      <td>-0.145783</td>\n",
              "      <td>-0.069083</td>\n",
              "      <td>-0.225775</td>\n",
              "      <td>-0.638672</td>\n",
              "      <td>0.101288</td>\n",
              "      <td>-0.339846</td>\n",
              "      <td>0.167170</td>\n",
              "      <td>0.125895</td>\n",
              "      <td>-0.008983</td>\n",
              "      <td>0.014724</td>\n",
              "      <td>0</td>\n",
              "    </tr>\n",
              "    <tr>\n",
              "      <th>2</th>\n",
              "      <td>4.983721</td>\n",
              "      <td>-0.994972</td>\n",
              "      <td>-1.358354</td>\n",
              "      <td>-1.340163</td>\n",
              "      <td>1.773209</td>\n",
              "      <td>0.379780</td>\n",
              "      <td>-0.503198</td>\n",
              "      <td>1.800499</td>\n",
              "      <td>0.791461</td>\n",
              "      <td>0.247676</td>\n",
              "      <td>-1.514654</td>\n",
              "      <td>0.207643</td>\n",
              "      <td>0.624501</td>\n",
              "      <td>0.066084</td>\n",
              "      <td>0.717293</td>\n",
              "      <td>-0.165946</td>\n",
              "      <td>2.345865</td>\n",
              "      <td>-2.890083</td>\n",
              "      <td>1.109969</td>\n",
              "      <td>-0.121359</td>\n",
              "      <td>-2.261857</td>\n",
              "      <td>0.524980</td>\n",
              "      <td>0.247998</td>\n",
              "      <td>0.771679</td>\n",
              "      <td>0.909412</td>\n",
              "      <td>-0.689281</td>\n",
              "      <td>-0.327642</td>\n",
              "      <td>-0.139097</td>\n",
              "      <td>-0.055353</td>\n",
              "      <td>-0.059752</td>\n",
              "      <td>0</td>\n",
              "    </tr>\n",
              "    <tr>\n",
              "      <th>3</th>\n",
              "      <td>1.418291</td>\n",
              "      <td>-0.994972</td>\n",
              "      <td>-0.966272</td>\n",
              "      <td>-0.185226</td>\n",
              "      <td>1.792993</td>\n",
              "      <td>-0.863291</td>\n",
              "      <td>-0.010309</td>\n",
              "      <td>1.247203</td>\n",
              "      <td>0.237609</td>\n",
              "      <td>0.377436</td>\n",
              "      <td>-1.387024</td>\n",
              "      <td>-0.054952</td>\n",
              "      <td>-0.226487</td>\n",
              "      <td>0.178228</td>\n",
              "      <td>0.507757</td>\n",
              "      <td>-0.287924</td>\n",
              "      <td>-0.631418</td>\n",
              "      <td>-1.059647</td>\n",
              "      <td>-0.684093</td>\n",
              "      <td>1.965775</td>\n",
              "      <td>-1.232622</td>\n",
              "      <td>-0.208038</td>\n",
              "      <td>-0.108300</td>\n",
              "      <td>0.005274</td>\n",
              "      <td>-0.190321</td>\n",
              "      <td>-1.175575</td>\n",
              "      <td>0.647376</td>\n",
              "      <td>-0.221929</td>\n",
              "      <td>0.062723</td>\n",
              "      <td>0.061458</td>\n",
              "      <td>0</td>\n",
              "    </tr>\n",
              "    <tr>\n",
              "      <th>4</th>\n",
              "      <td>0.670579</td>\n",
              "      <td>-0.994960</td>\n",
              "      <td>-1.158233</td>\n",
              "      <td>0.877737</td>\n",
              "      <td>1.548718</td>\n",
              "      <td>0.403034</td>\n",
              "      <td>-0.407193</td>\n",
              "      <td>0.095921</td>\n",
              "      <td>0.592941</td>\n",
              "      <td>-0.270533</td>\n",
              "      <td>0.817739</td>\n",
              "      <td>0.753074</td>\n",
              "      <td>-0.822843</td>\n",
              "      <td>0.538196</td>\n",
              "      <td>1.345852</td>\n",
              "      <td>-1.119670</td>\n",
              "      <td>0.175121</td>\n",
              "      <td>-0.451449</td>\n",
              "      <td>-0.237033</td>\n",
              "      <td>-0.038195</td>\n",
              "      <td>0.803487</td>\n",
              "      <td>0.408542</td>\n",
              "      <td>-0.009431</td>\n",
              "      <td>0.798278</td>\n",
              "      <td>-0.137458</td>\n",
              "      <td>0.141267</td>\n",
              "      <td>-0.206010</td>\n",
              "      <td>0.502292</td>\n",
              "      <td>0.219422</td>\n",
              "      <td>0.215153</td>\n",
              "      <td>0</td>\n",
              "    </tr>\n",
              "  </tbody>\n",
              "</table>\n",
              "</div>\n",
              "    <div class=\"colab-df-buttons\">\n",
              "\n",
              "  <div class=\"colab-df-container\">\n",
              "    <button class=\"colab-df-convert\" onclick=\"convertToInteractive('df-c1125b9c-a91a-45ab-81fc-e6c96dda6bb9')\"\n",
              "            title=\"Convert this dataframe to an interactive table.\"\n",
              "            style=\"display:none;\">\n",
              "\n",
              "  <svg xmlns=\"http://www.w3.org/2000/svg\" height=\"24px\" viewBox=\"0 -960 960 960\">\n",
              "    <path d=\"M120-120v-720h720v720H120Zm60-500h600v-160H180v160Zm220 220h160v-160H400v160Zm0 220h160v-160H400v160ZM180-400h160v-160H180v160Zm440 0h160v-160H620v160ZM180-180h160v-160H180v160Zm440 0h160v-160H620v160Z\"/>\n",
              "  </svg>\n",
              "    </button>\n",
              "\n",
              "  <style>\n",
              "    .colab-df-container {\n",
              "      display:flex;\n",
              "      gap: 12px;\n",
              "    }\n",
              "\n",
              "    .colab-df-convert {\n",
              "      background-color: #E8F0FE;\n",
              "      border: none;\n",
              "      border-radius: 50%;\n",
              "      cursor: pointer;\n",
              "      display: none;\n",
              "      fill: #1967D2;\n",
              "      height: 32px;\n",
              "      padding: 0 0 0 0;\n",
              "      width: 32px;\n",
              "    }\n",
              "\n",
              "    .colab-df-convert:hover {\n",
              "      background-color: #E2EBFA;\n",
              "      box-shadow: 0px 1px 2px rgba(60, 64, 67, 0.3), 0px 1px 3px 1px rgba(60, 64, 67, 0.15);\n",
              "      fill: #174EA6;\n",
              "    }\n",
              "\n",
              "    .colab-df-buttons div {\n",
              "      margin-bottom: 4px;\n",
              "    }\n",
              "\n",
              "    [theme=dark] .colab-df-convert {\n",
              "      background-color: #3B4455;\n",
              "      fill: #D2E3FC;\n",
              "    }\n",
              "\n",
              "    [theme=dark] .colab-df-convert:hover {\n",
              "      background-color: #434B5C;\n",
              "      box-shadow: 0px 1px 3px 1px rgba(0, 0, 0, 0.15);\n",
              "      filter: drop-shadow(0px 1px 2px rgba(0, 0, 0, 0.3));\n",
              "      fill: #FFFFFF;\n",
              "    }\n",
              "  </style>\n",
              "\n",
              "    <script>\n",
              "      const buttonEl =\n",
              "        document.querySelector('#df-c1125b9c-a91a-45ab-81fc-e6c96dda6bb9 button.colab-df-convert');\n",
              "      buttonEl.style.display =\n",
              "        google.colab.kernel.accessAllowed ? 'block' : 'none';\n",
              "\n",
              "      async function convertToInteractive(key) {\n",
              "        const element = document.querySelector('#df-c1125b9c-a91a-45ab-81fc-e6c96dda6bb9');\n",
              "        const dataTable =\n",
              "          await google.colab.kernel.invokeFunction('convertToInteractive',\n",
              "                                                    [key], {});\n",
              "        if (!dataTable) return;\n",
              "\n",
              "        const docLinkHtml = 'Like what you see? Visit the ' +\n",
              "          '<a target=\"_blank\" href=https://colab.research.google.com/notebooks/data_table.ipynb>data table notebook</a>'\n",
              "          + ' to learn more about interactive tables.';\n",
              "        element.innerHTML = '';\n",
              "        dataTable['output_type'] = 'display_data';\n",
              "        await google.colab.output.renderOutput(dataTable, element);\n",
              "        const docLink = document.createElement('div');\n",
              "        docLink.innerHTML = docLinkHtml;\n",
              "        element.appendChild(docLink);\n",
              "      }\n",
              "    </script>\n",
              "  </div>\n",
              "\n",
              "\n",
              "<div id=\"df-7c5fc904-81c8-4d41-ad1c-43ea5b312ec4\">\n",
              "  <button class=\"colab-df-quickchart\" onclick=\"quickchart('df-7c5fc904-81c8-4d41-ad1c-43ea5b312ec4')\"\n",
              "            title=\"Suggest charts\"\n",
              "            style=\"display:none;\">\n",
              "\n",
              "<svg xmlns=\"http://www.w3.org/2000/svg\" height=\"24px\"viewBox=\"0 0 24 24\"\n",
              "     width=\"24px\">\n",
              "    <g>\n",
              "        <path d=\"M19 3H5c-1.1 0-2 .9-2 2v14c0 1.1.9 2 2 2h14c1.1 0 2-.9 2-2V5c0-1.1-.9-2-2-2zM9 17H7v-7h2v7zm4 0h-2V7h2v10zm4 0h-2v-4h2v4z\"/>\n",
              "    </g>\n",
              "</svg>\n",
              "  </button>\n",
              "\n",
              "<style>\n",
              "  .colab-df-quickchart {\n",
              "      --bg-color: #E8F0FE;\n",
              "      --fill-color: #1967D2;\n",
              "      --hover-bg-color: #E2EBFA;\n",
              "      --hover-fill-color: #174EA6;\n",
              "      --disabled-fill-color: #AAA;\n",
              "      --disabled-bg-color: #DDD;\n",
              "  }\n",
              "\n",
              "  [theme=dark] .colab-df-quickchart {\n",
              "      --bg-color: #3B4455;\n",
              "      --fill-color: #D2E3FC;\n",
              "      --hover-bg-color: #434B5C;\n",
              "      --hover-fill-color: #FFFFFF;\n",
              "      --disabled-bg-color: #3B4455;\n",
              "      --disabled-fill-color: #666;\n",
              "  }\n",
              "\n",
              "  .colab-df-quickchart {\n",
              "    background-color: var(--bg-color);\n",
              "    border: none;\n",
              "    border-radius: 50%;\n",
              "    cursor: pointer;\n",
              "    display: none;\n",
              "    fill: var(--fill-color);\n",
              "    height: 32px;\n",
              "    padding: 0;\n",
              "    width: 32px;\n",
              "  }\n",
              "\n",
              "  .colab-df-quickchart:hover {\n",
              "    background-color: var(--hover-bg-color);\n",
              "    box-shadow: 0 1px 2px rgba(60, 64, 67, 0.3), 0 1px 3px 1px rgba(60, 64, 67, 0.15);\n",
              "    fill: var(--button-hover-fill-color);\n",
              "  }\n",
              "\n",
              "  .colab-df-quickchart-complete:disabled,\n",
              "  .colab-df-quickchart-complete:disabled:hover {\n",
              "    background-color: var(--disabled-bg-color);\n",
              "    fill: var(--disabled-fill-color);\n",
              "    box-shadow: none;\n",
              "  }\n",
              "\n",
              "  .colab-df-spinner {\n",
              "    border: 2px solid var(--fill-color);\n",
              "    border-color: transparent;\n",
              "    border-bottom-color: var(--fill-color);\n",
              "    animation:\n",
              "      spin 1s steps(1) infinite;\n",
              "  }\n",
              "\n",
              "  @keyframes spin {\n",
              "    0% {\n",
              "      border-color: transparent;\n",
              "      border-bottom-color: var(--fill-color);\n",
              "      border-left-color: var(--fill-color);\n",
              "    }\n",
              "    20% {\n",
              "      border-color: transparent;\n",
              "      border-left-color: var(--fill-color);\n",
              "      border-top-color: var(--fill-color);\n",
              "    }\n",
              "    30% {\n",
              "      border-color: transparent;\n",
              "      border-left-color: var(--fill-color);\n",
              "      border-top-color: var(--fill-color);\n",
              "      border-right-color: var(--fill-color);\n",
              "    }\n",
              "    40% {\n",
              "      border-color: transparent;\n",
              "      border-right-color: var(--fill-color);\n",
              "      border-top-color: var(--fill-color);\n",
              "    }\n",
              "    60% {\n",
              "      border-color: transparent;\n",
              "      border-right-color: var(--fill-color);\n",
              "    }\n",
              "    80% {\n",
              "      border-color: transparent;\n",
              "      border-right-color: var(--fill-color);\n",
              "      border-bottom-color: var(--fill-color);\n",
              "    }\n",
              "    90% {\n",
              "      border-color: transparent;\n",
              "      border-bottom-color: var(--fill-color);\n",
              "    }\n",
              "  }\n",
              "</style>\n",
              "\n",
              "  <script>\n",
              "    async function quickchart(key) {\n",
              "      const quickchartButtonEl =\n",
              "        document.querySelector('#' + key + ' button');\n",
              "      quickchartButtonEl.disabled = true;  // To prevent multiple clicks.\n",
              "      quickchartButtonEl.classList.add('colab-df-spinner');\n",
              "      try {\n",
              "        const charts = await google.colab.kernel.invokeFunction(\n",
              "            'suggestCharts', [key], {});\n",
              "      } catch (error) {\n",
              "        console.error('Error during call to suggestCharts:', error);\n",
              "      }\n",
              "      quickchartButtonEl.classList.remove('colab-df-spinner');\n",
              "      quickchartButtonEl.classList.add('colab-df-quickchart-complete');\n",
              "    }\n",
              "    (() => {\n",
              "      let quickchartButtonEl =\n",
              "        document.querySelector('#df-7c5fc904-81c8-4d41-ad1c-43ea5b312ec4 button');\n",
              "      quickchartButtonEl.style.display =\n",
              "        google.colab.kernel.accessAllowed ? 'block' : 'none';\n",
              "    })();\n",
              "  </script>\n",
              "</div>\n",
              "\n",
              "    </div>\n",
              "  </div>\n"
            ],
            "application/vnd.google.colaboratory.intrinsic+json": {
              "type": "dataframe",
              "variable_name": "df"
            }
          },
          "metadata": {},
          "execution_count": 40
        }
      ],
      "source": [
        "scaled_amount = df['scaled_amount']\n",
        "scaled_time = df['scaled_time']\n",
        "\n",
        "df.drop(['scaled_amount', 'scaled_time'], axis=1, inplace=True)\n",
        "df.insert(0, 'scaled_amount', scaled_amount)\n",
        "df.insert(1, 'scaled_time', scaled_time)\n",
        "\n",
        "# Amount and Time are Scaled!\n",
        "\n",
        "df.head()"
      ]
    },
    {
      "cell_type": "code",
      "execution_count": null,
      "metadata": {
        "colab": {
          "base_uri": "https://localhost:8080/",
          "height": 270
        },
        "id": "7LIlh-tRgldD",
        "outputId": "f3746774-8c94-4e2b-876f-d2cf505f0704"
      },
      "outputs": [
        {
          "output_type": "stream",
          "name": "stderr",
          "text": [
            "INFO:py4j.clientserver:Closing down clientserver connection\n",
            "2024-06-18 16:40:00,053 - py4j.clientserver - INFO - Closing down clientserver connection\n"
          ]
        },
        {
          "output_type": "execute_result",
          "data": {
            "text/plain": [
              "         V1        V2        V3        V4        V5  ...       V27       V28  \\\n",
              "0 -1.359807 -0.072781  2.536347  1.378155 -0.338321  ...  0.133558 -0.021053   \n",
              "1  1.191857  0.266151  0.166480  0.448154  0.060018  ... -0.008983  0.014724   \n",
              "2 -1.358354 -1.340163  1.773209  0.379780 -0.503198  ... -0.055353 -0.059752   \n",
              "3 -0.966272 -0.185226  1.792993 -0.863291 -0.010309  ...  0.062723  0.061458   \n",
              "4 -1.158233  0.877737  1.548718  0.403034 -0.407193  ...  0.219422  0.215153   \n",
              "\n",
              "   Class  scaled_time  scaled_amount  \n",
              "0      0    -0.994983       1.783274  \n",
              "1      0    -0.994983      -0.269825  \n",
              "2      0    -0.994972       4.983721  \n",
              "3      0    -0.994972       1.418291  \n",
              "4      0    -0.994960       0.670579  \n",
              "\n",
              "[5 rows x 31 columns]"
            ],
            "text/html": [
              "\n",
              "  <div id=\"df-c4e60732-908f-424b-933f-9e0aad42f964\" class=\"colab-df-container\">\n",
              "    <div>\n",
              "<style scoped>\n",
              "    .dataframe tbody tr th:only-of-type {\n",
              "        vertical-align: middle;\n",
              "    }\n",
              "\n",
              "    .dataframe tbody tr th {\n",
              "        vertical-align: top;\n",
              "    }\n",
              "\n",
              "    .dataframe thead th {\n",
              "        text-align: right;\n",
              "    }\n",
              "</style>\n",
              "<table border=\"1\" class=\"dataframe\">\n",
              "  <thead>\n",
              "    <tr style=\"text-align: right;\">\n",
              "      <th></th>\n",
              "      <th>V1</th>\n",
              "      <th>V2</th>\n",
              "      <th>V3</th>\n",
              "      <th>V4</th>\n",
              "      <th>V5</th>\n",
              "      <th>...</th>\n",
              "      <th>V27</th>\n",
              "      <th>V28</th>\n",
              "      <th>Class</th>\n",
              "      <th>scaled_time</th>\n",
              "      <th>scaled_amount</th>\n",
              "    </tr>\n",
              "  </thead>\n",
              "  <tbody>\n",
              "    <tr>\n",
              "      <th>0</th>\n",
              "      <td>-1.359807</td>\n",
              "      <td>-0.072781</td>\n",
              "      <td>2.536347</td>\n",
              "      <td>1.378155</td>\n",
              "      <td>-0.338321</td>\n",
              "      <td>...</td>\n",
              "      <td>0.133558</td>\n",
              "      <td>-0.021053</td>\n",
              "      <td>0</td>\n",
              "      <td>-0.994983</td>\n",
              "      <td>1.783274</td>\n",
              "    </tr>\n",
              "    <tr>\n",
              "      <th>1</th>\n",
              "      <td>1.191857</td>\n",
              "      <td>0.266151</td>\n",
              "      <td>0.166480</td>\n",
              "      <td>0.448154</td>\n",
              "      <td>0.060018</td>\n",
              "      <td>...</td>\n",
              "      <td>-0.008983</td>\n",
              "      <td>0.014724</td>\n",
              "      <td>0</td>\n",
              "      <td>-0.994983</td>\n",
              "      <td>-0.269825</td>\n",
              "    </tr>\n",
              "    <tr>\n",
              "      <th>2</th>\n",
              "      <td>-1.358354</td>\n",
              "      <td>-1.340163</td>\n",
              "      <td>1.773209</td>\n",
              "      <td>0.379780</td>\n",
              "      <td>-0.503198</td>\n",
              "      <td>...</td>\n",
              "      <td>-0.055353</td>\n",
              "      <td>-0.059752</td>\n",
              "      <td>0</td>\n",
              "      <td>-0.994972</td>\n",
              "      <td>4.983721</td>\n",
              "    </tr>\n",
              "    <tr>\n",
              "      <th>3</th>\n",
              "      <td>-0.966272</td>\n",
              "      <td>-0.185226</td>\n",
              "      <td>1.792993</td>\n",
              "      <td>-0.863291</td>\n",
              "      <td>-0.010309</td>\n",
              "      <td>...</td>\n",
              "      <td>0.062723</td>\n",
              "      <td>0.061458</td>\n",
              "      <td>0</td>\n",
              "      <td>-0.994972</td>\n",
              "      <td>1.418291</td>\n",
              "    </tr>\n",
              "    <tr>\n",
              "      <th>4</th>\n",
              "      <td>-1.158233</td>\n",
              "      <td>0.877737</td>\n",
              "      <td>1.548718</td>\n",
              "      <td>0.403034</td>\n",
              "      <td>-0.407193</td>\n",
              "      <td>...</td>\n",
              "      <td>0.219422</td>\n",
              "      <td>0.215153</td>\n",
              "      <td>0</td>\n",
              "      <td>-0.994960</td>\n",
              "      <td>0.670579</td>\n",
              "    </tr>\n",
              "  </tbody>\n",
              "</table>\n",
              "<p>5 rows × 31 columns</p>\n",
              "</div>\n",
              "    <div class=\"colab-df-buttons\">\n",
              "\n",
              "  <div class=\"colab-df-container\">\n",
              "    <button class=\"colab-df-convert\" onclick=\"convertToInteractive('df-c4e60732-908f-424b-933f-9e0aad42f964')\"\n",
              "            title=\"Convert this dataframe to an interactive table.\"\n",
              "            style=\"display:none;\">\n",
              "\n",
              "  <svg xmlns=\"http://www.w3.org/2000/svg\" height=\"24px\" viewBox=\"0 -960 960 960\">\n",
              "    <path d=\"M120-120v-720h720v720H120Zm60-500h600v-160H180v160Zm220 220h160v-160H400v160Zm0 220h160v-160H400v160ZM180-400h160v-160H180v160Zm440 0h160v-160H620v160ZM180-180h160v-160H180v160Zm440 0h160v-160H620v160Z\"/>\n",
              "  </svg>\n",
              "    </button>\n",
              "\n",
              "  <style>\n",
              "    .colab-df-container {\n",
              "      display:flex;\n",
              "      gap: 12px;\n",
              "    }\n",
              "\n",
              "    .colab-df-convert {\n",
              "      background-color: #E8F0FE;\n",
              "      border: none;\n",
              "      border-radius: 50%;\n",
              "      cursor: pointer;\n",
              "      display: none;\n",
              "      fill: #1967D2;\n",
              "      height: 32px;\n",
              "      padding: 0 0 0 0;\n",
              "      width: 32px;\n",
              "    }\n",
              "\n",
              "    .colab-df-convert:hover {\n",
              "      background-color: #E2EBFA;\n",
              "      box-shadow: 0px 1px 2px rgba(60, 64, 67, 0.3), 0px 1px 3px 1px rgba(60, 64, 67, 0.15);\n",
              "      fill: #174EA6;\n",
              "    }\n",
              "\n",
              "    .colab-df-buttons div {\n",
              "      margin-bottom: 4px;\n",
              "    }\n",
              "\n",
              "    [theme=dark] .colab-df-convert {\n",
              "      background-color: #3B4455;\n",
              "      fill: #D2E3FC;\n",
              "    }\n",
              "\n",
              "    [theme=dark] .colab-df-convert:hover {\n",
              "      background-color: #434B5C;\n",
              "      box-shadow: 0px 1px 3px 1px rgba(0, 0, 0, 0.15);\n",
              "      filter: drop-shadow(0px 1px 2px rgba(0, 0, 0, 0.3));\n",
              "      fill: #FFFFFF;\n",
              "    }\n",
              "  </style>\n",
              "\n",
              "    <script>\n",
              "      const buttonEl =\n",
              "        document.querySelector('#df-c4e60732-908f-424b-933f-9e0aad42f964 button.colab-df-convert');\n",
              "      buttonEl.style.display =\n",
              "        google.colab.kernel.accessAllowed ? 'block' : 'none';\n",
              "\n",
              "      async function convertToInteractive(key) {\n",
              "        const element = document.querySelector('#df-c4e60732-908f-424b-933f-9e0aad42f964');\n",
              "        const dataTable =\n",
              "          await google.colab.kernel.invokeFunction('convertToInteractive',\n",
              "                                                    [key], {});\n",
              "        if (!dataTable) return;\n",
              "\n",
              "        const docLinkHtml = 'Like what you see? Visit the ' +\n",
              "          '<a target=\"_blank\" href=https://colab.research.google.com/notebooks/data_table.ipynb>data table notebook</a>'\n",
              "          + ' to learn more about interactive tables.';\n",
              "        element.innerHTML = '';\n",
              "        dataTable['output_type'] = 'display_data';\n",
              "        await google.colab.output.renderOutput(dataTable, element);\n",
              "        const docLink = document.createElement('div');\n",
              "        docLink.innerHTML = docLinkHtml;\n",
              "        element.appendChild(docLink);\n",
              "      }\n",
              "    </script>\n",
              "  </div>\n",
              "\n",
              "\n",
              "<div id=\"df-7e00ab0e-d623-4cf7-8154-2daea5c27d4d\">\n",
              "  <button class=\"colab-df-quickchart\" onclick=\"quickchart('df-7e00ab0e-d623-4cf7-8154-2daea5c27d4d')\"\n",
              "            title=\"Suggest charts\"\n",
              "            style=\"display:none;\">\n",
              "\n",
              "<svg xmlns=\"http://www.w3.org/2000/svg\" height=\"24px\"viewBox=\"0 0 24 24\"\n",
              "     width=\"24px\">\n",
              "    <g>\n",
              "        <path d=\"M19 3H5c-1.1 0-2 .9-2 2v14c0 1.1.9 2 2 2h14c1.1 0 2-.9 2-2V5c0-1.1-.9-2-2-2zM9 17H7v-7h2v7zm4 0h-2V7h2v10zm4 0h-2v-4h2v4z\"/>\n",
              "    </g>\n",
              "</svg>\n",
              "  </button>\n",
              "\n",
              "<style>\n",
              "  .colab-df-quickchart {\n",
              "      --bg-color: #E8F0FE;\n",
              "      --fill-color: #1967D2;\n",
              "      --hover-bg-color: #E2EBFA;\n",
              "      --hover-fill-color: #174EA6;\n",
              "      --disabled-fill-color: #AAA;\n",
              "      --disabled-bg-color: #DDD;\n",
              "  }\n",
              "\n",
              "  [theme=dark] .colab-df-quickchart {\n",
              "      --bg-color: #3B4455;\n",
              "      --fill-color: #D2E3FC;\n",
              "      --hover-bg-color: #434B5C;\n",
              "      --hover-fill-color: #FFFFFF;\n",
              "      --disabled-bg-color: #3B4455;\n",
              "      --disabled-fill-color: #666;\n",
              "  }\n",
              "\n",
              "  .colab-df-quickchart {\n",
              "    background-color: var(--bg-color);\n",
              "    border: none;\n",
              "    border-radius: 50%;\n",
              "    cursor: pointer;\n",
              "    display: none;\n",
              "    fill: var(--fill-color);\n",
              "    height: 32px;\n",
              "    padding: 0;\n",
              "    width: 32px;\n",
              "  }\n",
              "\n",
              "  .colab-df-quickchart:hover {\n",
              "    background-color: var(--hover-bg-color);\n",
              "    box-shadow: 0 1px 2px rgba(60, 64, 67, 0.3), 0 1px 3px 1px rgba(60, 64, 67, 0.15);\n",
              "    fill: var(--button-hover-fill-color);\n",
              "  }\n",
              "\n",
              "  .colab-df-quickchart-complete:disabled,\n",
              "  .colab-df-quickchart-complete:disabled:hover {\n",
              "    background-color: var(--disabled-bg-color);\n",
              "    fill: var(--disabled-fill-color);\n",
              "    box-shadow: none;\n",
              "  }\n",
              "\n",
              "  .colab-df-spinner {\n",
              "    border: 2px solid var(--fill-color);\n",
              "    border-color: transparent;\n",
              "    border-bottom-color: var(--fill-color);\n",
              "    animation:\n",
              "      spin 1s steps(1) infinite;\n",
              "  }\n",
              "\n",
              "  @keyframes spin {\n",
              "    0% {\n",
              "      border-color: transparent;\n",
              "      border-bottom-color: var(--fill-color);\n",
              "      border-left-color: var(--fill-color);\n",
              "    }\n",
              "    20% {\n",
              "      border-color: transparent;\n",
              "      border-left-color: var(--fill-color);\n",
              "      border-top-color: var(--fill-color);\n",
              "    }\n",
              "    30% {\n",
              "      border-color: transparent;\n",
              "      border-left-color: var(--fill-color);\n",
              "      border-top-color: var(--fill-color);\n",
              "      border-right-color: var(--fill-color);\n",
              "    }\n",
              "    40% {\n",
              "      border-color: transparent;\n",
              "      border-right-color: var(--fill-color);\n",
              "      border-top-color: var(--fill-color);\n",
              "    }\n",
              "    60% {\n",
              "      border-color: transparent;\n",
              "      border-right-color: var(--fill-color);\n",
              "    }\n",
              "    80% {\n",
              "      border-color: transparent;\n",
              "      border-right-color: var(--fill-color);\n",
              "      border-bottom-color: var(--fill-color);\n",
              "    }\n",
              "    90% {\n",
              "      border-color: transparent;\n",
              "      border-bottom-color: var(--fill-color);\n",
              "    }\n",
              "  }\n",
              "</style>\n",
              "\n",
              "  <script>\n",
              "    async function quickchart(key) {\n",
              "      const quickchartButtonEl =\n",
              "        document.querySelector('#' + key + ' button');\n",
              "      quickchartButtonEl.disabled = true;  // To prevent multiple clicks.\n",
              "      quickchartButtonEl.classList.add('colab-df-spinner');\n",
              "      try {\n",
              "        const charts = await google.colab.kernel.invokeFunction(\n",
              "            'suggestCharts', [key], {});\n",
              "      } catch (error) {\n",
              "        console.error('Error during call to suggestCharts:', error);\n",
              "      }\n",
              "      quickchartButtonEl.classList.remove('colab-df-spinner');\n",
              "      quickchartButtonEl.classList.add('colab-df-quickchart-complete');\n",
              "    }\n",
              "    (() => {\n",
              "      let quickchartButtonEl =\n",
              "        document.querySelector('#df-7e00ab0e-d623-4cf7-8154-2daea5c27d4d button');\n",
              "      quickchartButtonEl.style.display =\n",
              "        google.colab.kernel.accessAllowed ? 'block' : 'none';\n",
              "    })();\n",
              "  </script>\n",
              "</div>\n",
              "\n",
              "    </div>\n",
              "  </div>\n"
            ],
            "application/vnd.google.colaboratory.intrinsic+json": {
              "type": "dataframe",
              "variable_name": "df"
            }
          },
          "metadata": {},
          "execution_count": 50
        }
      ],
      "source": [
        "df.head()"
      ]
    },
    {
      "cell_type": "code",
      "execution_count": null,
      "metadata": {
        "colab": {
          "base_uri": "https://localhost:8080/"
        },
        "id": "IGH6IOGkm2VA",
        "outputId": "6a15f8c7-965b-42ff-92d9-7d9b973cde58"
      },
      "outputs": [
        {
          "output_type": "stream",
          "name": "stdout",
          "text": [
            "No Frauds 99.83 % of the dataset\n",
            "Frauds 0.17 % of the dataset\n",
            "----------------------------------------------------------------------------------------------------\n",
            "Label Distributions: \n",
            "\n",
            "[0.99827075 0.00172925]\n",
            "[0.99827955 0.00172045]\n"
          ]
        }
      ],
      "source": [
        "from sklearn.model_selection import train_test_split\n",
        "from sklearn.model_selection import StratifiedShuffleSplit\n",
        "\n",
        "print('No Frauds', round(df['Class'].value_counts()[0]/len(df) * 100,2), '% of the dataset')\n",
        "print('Frauds', round(df['Class'].value_counts()[1]/len(df) * 100,2), '% of the dataset')\n",
        "# df_spark = df_spark.select(['V4', 'V11', 'V12', 'V14', 'V16', 'V17', 'V18', 'V19','Amount','Time','Class'])\n",
        "# X = df.drop(['V4', 'V11', 'V12', 'V14', 'V16', 'V17', 'V18', 'V19','Class'], axis=1)\n",
        "X = df.drop('Class', axis=1)\n",
        "y = df['Class']\n",
        "\n",
        "# sss = StratifiedKFold(n_splits=5, random_state=None, shuffle=False)\n",
        "\n",
        "# for train_index, test_index in sss.split(X, y):\n",
        "#     print(\"Train:\", train_index, \"Test:\", test_index)\n",
        "#     original_Xtrain, original_Xtest = X.iloc[train_index], X.iloc[test_index]\n",
        "#     original_ytrain, original_ytest = y.iloc[train_index], y.iloc[test_index]\n",
        "\n",
        "# We already have X_train and y_train for undersample data thats why I am using original to distinguish and to not overwrite these variables.\n",
        "original_Xtrain, original_Xtest, original_ytrain, original_ytest = train_test_split(X, y, test_size=0.2, random_state=42)\n",
        "\n",
        "# Check the Distribution of the labels\n",
        "\n",
        "\n",
        "# Turn into an array\n",
        "original_Xtrain = original_Xtrain.values\n",
        "original_Xtest = original_Xtest.values\n",
        "original_ytrain = original_ytrain.values\n",
        "original_ytest = original_ytest.values\n",
        "\n",
        "# See if both the train and test label distribution are similarly distributed\n",
        "train_unique_label, train_counts_label = np.unique(original_ytrain, return_counts=True)\n",
        "test_unique_label, test_counts_label = np.unique(original_ytest, return_counts=True)\n",
        "print('-' * 100)\n",
        "\n",
        "print('Label Distributions: \\n')\n",
        "print(train_counts_label/ len(original_ytrain))\n",
        "print(test_counts_label/ len(original_ytest))"
      ]
    },
    {
      "cell_type": "code",
      "execution_count": null,
      "metadata": {
        "id": "znQn84IhcPGv"
      },
      "outputs": [],
      "source": [
        "sss = StratifiedKFold(n_splits=5, random_state=None, shuffle=False)"
      ]
    },
    {
      "cell_type": "code",
      "execution_count": null,
      "metadata": {
        "colab": {
          "base_uri": "https://localhost:8080/"
        },
        "id": "aMB_UBOVb_4I",
        "outputId": "536098d6-6d6a-41f9-861c-f86b42fb8928"
      },
      "outputs": [
        {
          "name": "stdout",
          "output_type": "stream",
          "text": [
            "Length of X (train): 227845 | Length of y (train): 227845\n",
            "Length of X (test): 56962 | Length of y (test): 56962\n",
            "---------------------------------------------------------------------------------------------------------------------------------------\n",
            "\n",
            "accuracy: 0.9749786038754417\n",
            "precision: 0.05962334322009185\n",
            "recall: 0.9086335605322947\n",
            "f1: 0.11186632062203375\n",
            "---------------------------------------------------------------------------------------------------------------------------------------\n"
          ]
        }
      ],
      "source": [
        "from imblearn.over_sampling import SMOTE\n",
        "from sklearn.model_selection import train_test_split, RandomizedSearchCV\n",
        "from sklearn import linear_model\n",
        "\n",
        "\n",
        "print('Length of X (train): {} | Length of y (train): {}'.format(len(original_Xtrain), len(original_ytrain)))\n",
        "print('Length of X (test): {} | Length of y (test): {}'.format(len(original_Xtest), len(original_ytest)))\n",
        "\n",
        "# List to append the score and then find the average\n",
        "accuracy_lst = []\n",
        "precision_lst = []\n",
        "recall_lst = []\n",
        "f1_lst = []\n",
        "auc_lst = []\n",
        "\n",
        "# Classifier with optimal parameters\n",
        "# log_reg_sm = grid_log_reg.best_estimator_\n",
        "log_reg_sm = LogisticRegression()\n",
        "\n",
        "\n",
        "\n",
        "log_reg_params = {\"penalty\": ['l1', 'l2'], 'C': [0.001, 0.01, 0.1, 1, 10, 100, 1000]}\n",
        "rand_log_reg = RandomizedSearchCV(linear_model.LogisticRegression(), log_reg_params, n_iter=4)\n",
        "\n",
        "for train, test in sss.split(original_Xtrain, original_ytrain):\n",
        "    pipeline = imbalanced_make_pipeline(SMOTE(sampling_strategy='minority'), rand_log_reg) # SMOTE happens during Cross Validation not before..\n",
        "    model = pipeline.fit(original_Xtrain[train], original_ytrain[train])\n",
        "    best_est = rand_log_reg.best_estimator_\n",
        "    prediction = best_est.predict(original_Xtrain[test])\n",
        "\n",
        "    accuracy_lst.append(pipeline.score(original_Xtrain[test], original_ytrain[test]))\n",
        "    precision_lst.append(precision_score(original_ytrain[test], prediction))\n",
        "    recall_lst.append(recall_score(original_ytrain[test], prediction))\n",
        "    f1_lst.append(f1_score(original_ytrain[test], prediction))\n",
        "    auc_lst.append(roc_auc_score(original_ytrain[test], prediction))\n",
        "\n",
        "print('---' * 45)\n",
        "print('')\n",
        "print(\"accuracy: {}\".format(np.mean(accuracy_lst)))\n",
        "print(\"precision: {}\".format(np.mean(precision_lst)))\n",
        "print(\"recall: {}\".format(np.mean(recall_lst)))\n",
        "print(\"f1: {}\".format(np.mean(f1_lst)))\n",
        "print('---' * 45)"
      ]
    },
    {
      "cell_type": "code",
      "execution_count": null,
      "metadata": {
        "colab": {
          "base_uri": "https://localhost:8080/"
        },
        "id": "JmavDLkieNYf",
        "outputId": "e6b1ee60-43b1-49e7-f228-8ae2fe5d903d"
      },
      "outputs": [
        {
          "name": "stdout",
          "output_type": "stream",
          "text": [
            "              precision    recall  f1-score   support\n",
            "\n",
            "    No Fraud       1.00      0.97      0.99     56864\n",
            "       Fraud       0.05      0.93      0.10        98\n",
            "\n",
            "    accuracy                           0.97     56962\n",
            "   macro avg       0.53      0.95      0.54     56962\n",
            "weighted avg       1.00      0.97      0.98     56962\n",
            "\n"
          ]
        }
      ],
      "source": [
        "labels = ['No Fraud', 'Fraud']\n",
        "smote_prediction = best_est.predict(original_Xtest)\n",
        "print(classification_report(original_ytest, smote_prediction, target_names=labels))"
      ]
    },
    {
      "cell_type": "code",
      "execution_count": null,
      "metadata": {
        "id": "9XgPEYlvXQYy"
      },
      "outputs": [],
      "source": [
        "# Let's implement simple classifiers\n",
        "# from sklearn import linear_model\n",
        "\n",
        "# classifiers = {\n",
        "#     \"LogisiticRegression\": linear_model.LogisticRegression(),\n",
        "#     \"KNearest\": KNeighborsClassifier(),\n",
        "#     \"Support Vector Classifier\": SVC(),\n",
        "#     \"DecisionTreeClassifier\": DecisionTreeClassifier()\n",
        "# }"
      ]
    },
    {
      "cell_type": "code",
      "execution_count": null,
      "metadata": {
        "id": "LolyzfjRec1G"
      },
      "outputs": [],
      "source": [
        "# SMOTE Technique (OverSampling) After splitting and Cross Validating\n",
        "sm = SMOTE(sampling_strategy='minority', random_state=42)\n",
        "# Xsm_train, ysm_train = sm.fit_sample(X_train, y_train)\n",
        "\n",
        "\n",
        "# This will be the data were we are going to\n",
        "Xsm_train, ysm_train = sm.fit_resample(original_Xtrain, original_ytrain)"
      ]
    },
    {
      "cell_type": "code",
      "execution_count": null,
      "metadata": {
        "id": "-Rxb17yie9Al"
      },
      "outputs": [],
      "source": [
        "import keras\n",
        "from keras import backend as K\n",
        "from keras.models import Sequential\n",
        "from keras.layers import Activation\n",
        "from keras.layers import Dense, Dropout, Flatten\n",
        "from keras.optimizers import Adam\n",
        "from keras.metrics import categorical_crossentropy"
      ]
    },
    {
      "cell_type": "code",
      "source": [
        "# Define the model\n",
        "n_inputs = Xsm_train.shape[1]\n",
        "model = Sequential()\n",
        "model.add(Dense(30, input_shape=(30, ), activation='relu'))\n",
        "model.add(Dense(32, activation='relu'))\n",
        "model.add(Dropout(0.5))\n",
        "model.add(Dense(16, activation='relu'))\n",
        "# model.add(Dropout(0.5))\n",
        "model.add(Dense(2, activation='softmax'))\n",
        "\n",
        "model.compile(optimizer=Adam(learning_rate=0.001), loss='sparse_categorical_crossentropy', metrics=['accuracy'])"
      ],
      "metadata": {
        "id": "oStTjwVQQ3Lx"
      },
      "execution_count": null,
      "outputs": []
    },
    {
      "cell_type": "code",
      "source": [
        "model.fit(Xsm_train, ysm_train, epochs=20, batch_size=64, validation_split=0.2, shuffle=True)"
      ],
      "metadata": {
        "colab": {
          "base_uri": "https://localhost:8080/"
        },
        "collapsed": true,
        "id": "xsaLTHZvRdnJ",
        "outputId": "bdf154a8-c1db-46da-cf1c-9ca7d629d3df"
      },
      "execution_count": null,
      "outputs": [
        {
          "output_type": "stream",
          "name": "stdout",
          "text": [
            "Epoch 1/20\n",
            "5687/5687 [==============================] - 20s 3ms/step - loss: 0.0499 - accuracy: 0.9824 - val_loss: 0.0122 - val_accuracy: 0.9993\n",
            "Epoch 2/20\n",
            "5687/5687 [==============================] - 18s 3ms/step - loss: 0.0124 - accuracy: 0.9966 - val_loss: 0.0032 - val_accuracy: 0.9998\n",
            "Epoch 3/20\n",
            "5687/5687 [==============================] - 19s 3ms/step - loss: 0.0091 - accuracy: 0.9976 - val_loss: 0.0035 - val_accuracy: 0.9995\n",
            "Epoch 4/20\n",
            "5687/5687 [==============================] - 17s 3ms/step - loss: 0.0081 - accuracy: 0.9980 - val_loss: 0.0021 - val_accuracy: 1.0000\n",
            "Epoch 5/20\n",
            "5687/5687 [==============================] - 17s 3ms/step - loss: 0.0068 - accuracy: 0.9983 - val_loss: 0.0026 - val_accuracy: 1.0000\n",
            "Epoch 6/20\n",
            "5687/5687 [==============================] - 19s 3ms/step - loss: 0.0063 - accuracy: 0.9985 - val_loss: 0.0116 - val_accuracy: 0.9987\n",
            "Epoch 7/20\n",
            "5687/5687 [==============================] - 18s 3ms/step - loss: 0.0057 - accuracy: 0.9987 - val_loss: 0.0019 - val_accuracy: 0.9997\n",
            "Epoch 8/20\n",
            "5687/5687 [==============================] - 20s 4ms/step - loss: 0.0052 - accuracy: 0.9988 - val_loss: 0.0013 - val_accuracy: 0.9999\n",
            "Epoch 9/20\n",
            "5687/5687 [==============================] - 19s 3ms/step - loss: 0.0045 - accuracy: 0.9990 - val_loss: 0.0017 - val_accuracy: 1.0000\n",
            "Epoch 10/20\n",
            "5687/5687 [==============================] - 18s 3ms/step - loss: 0.0045 - accuracy: 0.9990 - val_loss: 0.0011 - val_accuracy: 1.0000\n",
            "Epoch 11/20\n",
            "5687/5687 [==============================] - 18s 3ms/step - loss: 0.0041 - accuracy: 0.9991 - val_loss: 0.0026 - val_accuracy: 0.9992\n",
            "Epoch 12/20\n",
            "5687/5687 [==============================] - 28s 5ms/step - loss: 0.0037 - accuracy: 0.9991 - val_loss: 0.0012 - val_accuracy: 0.9998\n",
            "Epoch 13/20\n",
            "5687/5687 [==============================] - 18s 3ms/step - loss: 0.0035 - accuracy: 0.9992 - val_loss: 0.0011 - val_accuracy: 0.9999\n",
            "Epoch 14/20\n",
            "5687/5687 [==============================] - 20s 3ms/step - loss: 0.0037 - accuracy: 0.9992 - val_loss: 4.3098e-04 - val_accuracy: 1.0000\n",
            "Epoch 15/20\n",
            "5687/5687 [==============================] - 17s 3ms/step - loss: 0.0034 - accuracy: 0.9993 - val_loss: 0.0014 - val_accuracy: 0.9998\n",
            "Epoch 16/20\n",
            "5687/5687 [==============================] - 18s 3ms/step - loss: 0.0035 - accuracy: 0.9992 - val_loss: 0.0044 - val_accuracy: 0.9992\n",
            "Epoch 17/20\n",
            "5687/5687 [==============================] - 17s 3ms/step - loss: 0.0031 - accuracy: 0.9993 - val_loss: 2.6350e-04 - val_accuracy: 1.0000\n",
            "Epoch 18/20\n",
            "5687/5687 [==============================] - 19s 3ms/step - loss: 0.0032 - accuracy: 0.9993 - val_loss: 0.0043 - val_accuracy: 0.9986\n",
            "Epoch 19/20\n",
            "5687/5687 [==============================] - 18s 3ms/step - loss: 0.0031 - accuracy: 0.9993 - val_loss: 3.3990e-04 - val_accuracy: 1.0000\n",
            "Epoch 20/20\n",
            "5687/5687 [==============================] - 18s 3ms/step - loss: 0.0027 - accuracy: 0.9994 - val_loss: 5.6833e-04 - val_accuracy: 1.0000\n"
          ]
        },
        {
          "output_type": "execute_result",
          "data": {
            "text/plain": [
              "<keras.src.callbacks.History at 0x79e2c2963910>"
            ]
          },
          "metadata": {},
          "execution_count": 169
        }
      ]
    },
    {
      "cell_type": "code",
      "execution_count": null,
      "metadata": {
        "id": "iLeYeZtRduhT"
      },
      "outputs": [],
      "source": [
        "n_inputs = Xsm_train.shape[1]\n",
        "\n",
        "oversample_model = Sequential([\n",
        "    Dense(n_inputs, input_shape=(n_inputs, ), activation='relu'),\n",
        "    Dense(32, activation='relu'),\n",
        "    Dense(2, activation='softmax')\n",
        "])\n",
        "\n",
        "oversample_model.compile(Adam(learning_rate=0.001), loss='sparse_categorical_crossentropy', metrics=['accuracy'])"
      ]
    },
    {
      "cell_type": "code",
      "execution_count": null,
      "metadata": {
        "colab": {
          "base_uri": "https://localhost:8080/"
        },
        "id": "R8bs6Z8fd3Js",
        "outputId": "f726bc70-5901-4635-967a-054d615acf2c",
        "collapsed": true
      },
      "outputs": [
        {
          "output_type": "stream",
          "name": "stdout",
          "text": [
            "Epoch 1/20\n",
            "1214/1214 - 5s - loss: 0.0600 - accuracy: 0.9782 - val_loss: 0.0196 - val_accuracy: 0.9964 - 5s/epoch - 4ms/step\n",
            "Epoch 2/20\n",
            "1214/1214 - 3s - loss: 0.0133 - accuracy: 0.9968 - val_loss: 0.0079 - val_accuracy: 0.9993 - 3s/epoch - 3ms/step\n",
            "Epoch 3/20\n",
            "1214/1214 - 3s - loss: 0.0079 - accuracy: 0.9982 - val_loss: 0.0055 - val_accuracy: 0.9996 - 3s/epoch - 3ms/step\n",
            "Epoch 4/20\n",
            "1214/1214 - 5s - loss: 0.0058 - accuracy: 0.9988 - val_loss: 0.0022 - val_accuracy: 1.0000 - 5s/epoch - 4ms/step\n",
            "Epoch 5/20\n",
            "1214/1214 - 5s - loss: 0.0046 - accuracy: 0.9990 - val_loss: 0.0026 - val_accuracy: 1.0000 - 5s/epoch - 4ms/step\n",
            "Epoch 6/20\n",
            "1214/1214 - 3s - loss: 0.0036 - accuracy: 0.9992 - val_loss: 0.0017 - val_accuracy: 0.9999 - 3s/epoch - 2ms/step\n",
            "Epoch 7/20\n",
            "1214/1214 - 3s - loss: 0.0031 - accuracy: 0.9994 - val_loss: 0.0015 - val_accuracy: 0.9999 - 3s/epoch - 2ms/step\n",
            "Epoch 8/20\n",
            "1214/1214 - 5s - loss: 0.0026 - accuracy: 0.9994 - val_loss: 0.0019 - val_accuracy: 1.0000 - 5s/epoch - 4ms/step\n",
            "Epoch 9/20\n",
            "1214/1214 - 3s - loss: 0.0023 - accuracy: 0.9995 - val_loss: 0.0018 - val_accuracy: 0.9999 - 3s/epoch - 2ms/step\n",
            "Epoch 10/20\n",
            "1214/1214 - 3s - loss: 0.0020 - accuracy: 0.9996 - val_loss: 0.0016 - val_accuracy: 0.9997 - 3s/epoch - 2ms/step\n",
            "Epoch 11/20\n",
            "1214/1214 - 3s - loss: 0.0018 - accuracy: 0.9996 - val_loss: 0.0021 - val_accuracy: 0.9999 - 3s/epoch - 2ms/step\n",
            "Epoch 12/20\n",
            "1214/1214 - 3s - loss: 0.0017 - accuracy: 0.9996 - val_loss: 0.0015 - val_accuracy: 0.9999 - 3s/epoch - 3ms/step\n",
            "Epoch 13/20\n",
            "1214/1214 - 4s - loss: 0.0018 - accuracy: 0.9996 - val_loss: 3.2742e-04 - val_accuracy: 1.0000 - 4s/epoch - 3ms/step\n",
            "Epoch 14/20\n",
            "1214/1214 - 3s - loss: 0.0013 - accuracy: 0.9997 - val_loss: 0.0018 - val_accuracy: 1.0000 - 3s/epoch - 2ms/step\n",
            "Epoch 15/20\n",
            "1214/1214 - 3s - loss: 0.0016 - accuracy: 0.9996 - val_loss: 5.7810e-04 - val_accuracy: 0.9999 - 3s/epoch - 2ms/step\n",
            "Epoch 16/20\n",
            "1214/1214 - 3s - loss: 0.0012 - accuracy: 0.9997 - val_loss: 8.2217e-04 - val_accuracy: 0.9999 - 3s/epoch - 3ms/step\n",
            "Epoch 17/20\n",
            "1214/1214 - 5s - loss: 0.0012 - accuracy: 0.9997 - val_loss: 0.0011 - val_accuracy: 0.9999 - 5s/epoch - 4ms/step\n",
            "Epoch 18/20\n",
            "1214/1214 - 3s - loss: 0.0014 - accuracy: 0.9997 - val_loss: 6.0283e-04 - val_accuracy: 1.0000 - 3s/epoch - 2ms/step\n",
            "Epoch 19/20\n",
            "1214/1214 - 3s - loss: 0.0012 - accuracy: 0.9997 - val_loss: 0.0038 - val_accuracy: 0.9985 - 3s/epoch - 2ms/step\n",
            "Epoch 20/20\n",
            "1214/1214 - 3s - loss: 0.0011 - accuracy: 0.9997 - val_loss: 0.0042 - val_accuracy: 0.9989 - 3s/epoch - 2ms/step\n"
          ]
        },
        {
          "output_type": "execute_result",
          "data": {
            "text/plain": [
              "<keras.src.callbacks.History at 0x79e2c24edc00>"
            ]
          },
          "metadata": {},
          "execution_count": 178
        }
      ],
      "source": [
        "oversample_model.fit(Xsm_train, ysm_train, validation_split=0.2, batch_size=300, epochs=20, shuffle=True, verbose=2)"
      ]
    },
    {
      "cell_type": "code",
      "execution_count": null,
      "metadata": {
        "id": "9nQe4XaRd5MD"
      },
      "outputs": [],
      "source": [
        "oversample_predictions = oversample_model.predict(original_Xtest, batch_size=200, verbose=0)"
      ]
    },
    {
      "cell_type": "code",
      "source": [
        "oversample_predictions = model.predict(original_Xtest, batch_size=200, verbose=0)"
      ],
      "metadata": {
        "id": "RzvpEDHVTvZk"
      },
      "execution_count": null,
      "outputs": []
    },
    {
      "cell_type": "code",
      "execution_count": null,
      "metadata": {
        "colab": {
          "base_uri": "https://localhost:8080/"
        },
        "id": "EftmHaEUsNyF",
        "outputId": "2569f6ee-5cfa-4573-9597-643fc7270363"
      },
      "outputs": [
        {
          "output_type": "stream",
          "name": "stdout",
          "text": [
            "1781/1781 [==============================] - 10s 6ms/step - loss: 0.0136 - accuracy: 0.9992\n",
            "Test accuracy: 0.999210000038147\n"
          ]
        }
      ],
      "source": [
        "test_loss, test_acc = oversample_model.evaluate(original_Xtest, original_ytest)\n",
        "\n",
        "print('Test accuracy:', test_acc)"
      ]
    },
    {
      "cell_type": "code",
      "execution_count": null,
      "metadata": {
        "id": "kV1m8Irni_L6"
      },
      "outputs": [],
      "source": [
        "oversample_predictions_class = np.argmax(oversample_predictions, axis=-1)"
      ]
    },
    {
      "cell_type": "code",
      "execution_count": null,
      "metadata": {
        "colab": {
          "base_uri": "https://localhost:8080/"
        },
        "id": "UfKDNNkH7DBl",
        "outputId": "d581b817-5ea9-4f0f-f394-c154ffd7316b"
      },
      "outputs": [
        {
          "output_type": "stream",
          "name": "stderr",
          "text": [
            "INFO:tensorflow:Assets written to: /content/drive/MyDrive/DS200/Project/DL_Model_2/assets\n",
            "2024-06-18 17:15:27,707 - tensorflow - INFO - Assets written to: /content/drive/MyDrive/DS200/Project/DL_Model_2/assets\n"
          ]
        }
      ],
      "source": [
        "import os\n",
        "MD_dir = os.path.join('/content/drive/MyDrive/DS200/Project', \"DL_Model\")\n",
        "oversample_model.save(MD_dir)"
      ]
    },
    {
      "cell_type": "code",
      "execution_count": null,
      "metadata": {
        "colab": {
          "base_uri": "https://localhost:8080/"
        },
        "id": "hyE_L3Bzjbu2",
        "outputId": "45e50b12-477a-4a46-e80e-908d147a93ac"
      },
      "outputs": [
        {
          "output_type": "stream",
          "name": "stdout",
          "text": [
            "Accuracy: 0.999210\n",
            "Precision: 0.752381\n",
            "Recall: 0.806122\n",
            "F1 score: 0.778325\n"
          ]
        }
      ],
      "source": [
        "# accuracy: (tp + tn) / (p + n)\n",
        "accuracy = accuracy_score(original_ytest, oversample_predictions_class)\n",
        "print('Accuracy: %f' % accuracy)\n",
        "# precision tp / (tp + fp)\n",
        "precision = precision_score(original_ytest, oversample_predictions_class)\n",
        "print('Precision: %f' % precision)\n",
        "# recall: tp / (tp + fn)\n",
        "recall = recall_score(original_ytest, oversample_predictions_class)\n",
        "print('Recall: %f' % recall)\n",
        "# f1: 2 tp / (2 tp + fp + fn)\n",
        "f1 = f1_score(original_ytest, oversample_predictions_class)\n",
        "print('F1 score: %f' % f1)"
      ]
    },
    {
      "cell_type": "code",
      "execution_count": null,
      "metadata": {
        "id": "wypt1Myog6Ez"
      },
      "outputs": [],
      "source": [
        "classes_x=np.argmax(oversample_predictions,axis=1)"
      ]
    },
    {
      "cell_type": "code",
      "execution_count": null,
      "metadata": {
        "colab": {
          "base_uri": "https://localhost:8080/",
          "height": 484
        },
        "id": "OSCDRPpvd90D",
        "outputId": "e32db55e-e313-44d0-bbf7-6c78fe2e1436"
      },
      "outputs": [
        {
          "output_type": "execute_result",
          "data": {
            "text/plain": [
              "<sklearn.metrics._plot.confusion_matrix.ConfusionMatrixDisplay at 0x79e2d5e9ab30>"
            ]
          },
          "metadata": {},
          "execution_count": 184
        },
        {
          "output_type": "display_data",
          "data": {
            "text/plain": [
              "<Figure size 1600x800 with 0 Axes>"
            ]
          },
          "metadata": {}
        },
        {
          "output_type": "display_data",
          "data": {
            "text/plain": [
              "<Figure size 640x480 with 2 Axes>"
            ],
            "image/png": "[encoded data removed]"
          },
          "metadata": {}
        }
      ],
      "source": [
        "from sklearn.metrics import confusion_matrix\n",
        "from sklearn.metrics import ConfusionMatrixDisplay\n",
        "oversample_smote = confusion_matrix(original_ytest, classes_x)\n",
        "# actual_cm = confusion_matrix(original_ytest, original_ytest)\n",
        "labels = ['No Fraud', 'Fraud']\n",
        "\n",
        "fig = plt.figure(figsize=(16,8))\n",
        "\n",
        "# fig.add_subplot(221)\n",
        "cfmd = ConfusionMatrixDisplay(oversample_smote, display_labels=labels)\n",
        "cfmd.plot(cmap=plt.cm.Oranges, values_format='')\n",
        "# fig.add_subplot(222)\n",
        "# cfmd2 = ConfusionMatrixDisplay(actual_cm, display_labels=labels)\n",
        "# cfmd2.plot(cmap=plt.cm.Greens, values_format='')"
      ]
    },
    {
      "cell_type": "code",
      "source": [
        "import os\n",
        "MD_dir = os.path.join('/content/drive/MyDrive/DS200/Project', \"DL_Model_2\")\n",
        "model.save(MD_dir)"
      ],
      "metadata": {
        "colab": {
          "base_uri": "https://localhost:8080/"
        },
        "id": "hkm8IuUnWNUX",
        "outputId": "09aab0e2-1c62-48b0-ab5b-e578c3f6e69d"
      },
      "execution_count": null,
      "outputs": [
        {
          "output_type": "stream",
          "name": "stderr",
          "text": [
            "INFO:tensorflow:Assets written to: /content/drive/MyDrive/DS200/Project/DL_Model_2/assets\n",
            "2024-06-18 18:00:42,085 - tensorflow - INFO - Assets written to: /content/drive/MyDrive/DS200/Project/DL_Model_2/assets\n"
          ]
        }
      ]
    },
    {
      "cell_type": "code",
      "source": [
        "import os\n",
        "MD_dir = os.path.join('/content/drive/MyDrive/DS200/Project', \"DL_Model_3.keras\")\n",
        "model.save(MD_dir)"
      ],
      "metadata": {
        "id": "Fw1tBU7Ilvdm"
      },
      "execution_count": null,
      "outputs": []
    },
    {
      "cell_type": "code",
      "source": [
        "import os\n",
        "MD_dir = os.path.join('/content/drive/MyDrive/DS200/Project', \"DL_Model.h5\")\n",
        "oversample_model.save(MD_dir)"
      ],
      "metadata": {
        "colab": {
          "base_uri": "https://localhost:8080/"
        },
        "id": "DFd_YrrWqA8O",
        "outputId": "c1e4ee94-0f1b-4e74-a66a-2bd4e96eb499"
      },
      "execution_count": null,
      "outputs": [
        {
          "output_type": "stream",
          "name": "stderr",
          "text": [
            "/usr/local/lib/python3.10/dist-packages/keras/src/engine/training.py:3103: UserWarning: You are saving your model as an HDF5 file via `model.save()`. This file format is considered legacy. We recommend using instead the native Keras format, e.g. `model.save('my_model.keras')`.\n",
            "  saving_api.save_model(\n"
          ]
        }
      ]
    },
    {
      "cell_type": "code",
      "source": [
        "MD_dir"
      ],
      "metadata": {
        "colab": {
          "base_uri": "https://localhost:8080/",
          "height": 36
        },
        "id": "hZU6De6dl8xZ",
        "outputId": "8340dd45-dc0a-46cc-e7d4-4e0d70f4c842"
      },
      "execution_count": null,
      "outputs": [
        {
          "output_type": "execute_result",
          "data": {
            "text/plain": [
              "'/content/drive/MyDrive/DS200/Project/DL_Model.h5'"
            ],
            "application/vnd.google.colaboratory.intrinsic+json": {
              "type": "string"
            }
          },
          "metadata": {},
          "execution_count": 186
        }
      ]
    },
    {
      "cell_type": "code",
      "source": [
        "new_model = tf.keras.models.load_model(MD_dir)\n",
        "new_model.summary()"
      ],
      "metadata": {
        "colab": {
          "base_uri": "https://localhost:8080/"
        },
        "id": "BBEHX9R5l6ZC",
        "outputId": "c86211a0-7f9c-4d62-990a-68b066fb4457"
      },
      "execution_count": null,
      "outputs": [
        {
          "output_type": "stream",
          "name": "stdout",
          "text": [
            "Model: \"sequential_14\"\n",
            "_________________________________________________________________\n",
            " Layer (type)                Output Shape              Param #   \n",
            "=================================================================\n",
            " dense_44 (Dense)            (None, 30)                930       \n",
            "                                                                 \n",
            " dense_45 (Dense)            (None, 32)                992       \n",
            "                                                                 \n",
            " dense_46 (Dense)            (None, 2)                 66        \n",
            "                                                                 \n",
            "=================================================================\n",
            "Total params: 1988 (7.77 KB)\n",
            "Trainable params: 1988 (7.77 KB)\n",
            "Non-trainable params: 0 (0.00 Byte)\n",
            "_________________________________________________________________\n"
          ]
        }
      ]
    },
    {
      "cell_type": "code",
      "execution_count": null,
      "metadata": {
        "colab": {
          "base_uri": "https://localhost:8080/"
        },
        "id": "Lf1fkfWLeovf",
        "outputId": "bb968a4c-a674-4982-b078-d0b2b50e7346"
      },
      "outputs": [
        {
          "name": "stdout",
          "output_type": "stream",
          "text": [
            "Model: \"sequential\"\n",
            "_________________________________________________________________\n",
            " Layer (type)                Output Shape              Param #   \n",
            "=================================================================\n",
            " dense (Dense)               (None, 30)                930       \n",
            "                                                                 \n",
            " dense_1 (Dense)             (None, 32)                992       \n",
            "                                                                 \n",
            " dense_2 (Dense)             (None, 2)                 66        \n",
            "                                                                 \n",
            "=================================================================\n",
            "Total params: 1988 (7.77 KB)\n",
            "Trainable params: 1988 (7.77 KB)\n",
            "Non-trainable params: 0 (0.00 Byte)\n",
            "_________________________________________________________________\n"
          ]
        }
      ],
      "source": [
        "new_model = tf.keras.models.load_model(MD_dir)\n",
        "new_model.summary()"
      ]
    },
    {
      "cell_type": "markdown",
      "metadata": {
        "id": "NmPV8Sk_VOPk"
      },
      "source": [
        "# PySpark"
      ]
    },
    {
      "cell_type": "code",
      "execution_count": 10,
      "metadata": {
        "id": "qxIUxMz-IQY7"
      },
      "outputs": [],
      "source": [
        "from pyspark.sql.functions import when, col, regexp_replace, array\n",
        "from sklearn import neighbors\n",
        "import random\n",
        "from pyspark.sql import Row\n",
        "from pyspark.ml.evaluation import MulticlassClassificationEvaluator\n",
        "from pyspark.ml.feature import MinMaxScaler, StandardScaler, RobustScaler\n",
        "from pyspark.ml.feature import VectorAssembler\n",
        "from pyspark.sql.types import ArrayType, FloatType, Union, Dict\n",
        "from pyspark.ml.classification import LogisticRegression as LogisticRegressionSpark\n",
        "from pyspark.sql.functions import explode, array, lit, col, udf\n",
        "from pyspark.ml.functions import predict_batch_udf\n",
        "from pyspark.sql.types import FloatType, ArrayType\n",
        "from pyspark.ml.classification import RandomForestClassifier as RandomForestClassifierSpark"
      ]
    },
    {
      "cell_type": "code",
      "execution_count": 11,
      "metadata": {
        "id": "xZXkiWpiu9sj"
      },
      "outputs": [],
      "source": [
        "df_spark = spark.read.format(\"csv\").load(\"creditcard.csv\",header = 'True',inferSchema='True')"
      ]
    },
    {
      "cell_type": "code",
      "execution_count": 12,
      "metadata": {
        "id": "sN7k2tkt6ZGr"
      },
      "outputs": [],
      "source": [
        "train_data, test_data = df_spark.randomSplit([0.8, 0.2], seed=42)"
      ]
    },
    {
      "cell_type": "code",
      "execution_count": 13,
      "metadata": {
        "colab": {
          "base_uri": "https://localhost:8080/"
        },
        "id": "XwGZ16uQKoct",
        "outputId": "64ea1425-fa67-46aa-96b5-5594210e6df7"
      },
      "outputs": [
        {
          "output_type": "execute_result",
          "data": {
            "text/plain": [
              "(0.9982135803011017, 0.0017864196988983015)"
            ]
          },
          "metadata": {},
          "execution_count": 13
        }
      ],
      "source": [
        "value_0 = train_data.filter(train_data.Class == 0)\n",
        "value_1 = train_data.filter(train_data.Class == 1)\n",
        "value_0.count()/train_data.count(), value_1.count()/train_data.count()"
      ]
    },
    {
      "cell_type": "code",
      "execution_count": 14,
      "metadata": {
        "colab": {
          "base_uri": "https://localhost:8080/"
        },
        "id": "VU_3kgTtLopW",
        "outputId": "b7d20737-50bf-43c8-859f-65d5cb4bbce7"
      },
      "outputs": [
        {
          "output_type": "execute_result",
          "data": {
            "text/plain": [
              "(0.9985081699633185, 0.001491830036681468)"
            ]
          },
          "metadata": {},
          "execution_count": 14
        }
      ],
      "source": [
        "value_0 = test_data.filter(test_data.Class == 0)\n",
        "value_1 = test_data.filter(test_data.Class == 1)\n",
        "value_0.count()/test_data.count(), value_1.count()/test_data.count()"
      ]
    },
    {
      "cell_type": "code",
      "execution_count": 15,
      "metadata": {
        "id": "BHVtXVEpwRXs"
      },
      "outputs": [],
      "source": [
        "def vectorizerFunction(dataInput, TargetFieldName):\n",
        "    if(dataInput.select(TargetFieldName).distinct().count() != 2):\n",
        "        raise ValueError(\"Target field must have only 2 distinct classes\")\n",
        "    columnNames = list(dataInput.columns)\n",
        "    columnNames.remove(TargetFieldName)\n",
        "    dataInput = dataInput.select((','.join(columnNames)+','+TargetFieldName).split(','))\n",
        "    assembler=VectorAssembler(inputCols = columnNames, outputCol = 'features')\n",
        "    pos_vectorized = assembler.transform(dataInput)\n",
        "    vectorized = pos_vectorized.select('features',TargetFieldName).withColumn('label',pos_vectorized[TargetFieldName]).drop(TargetFieldName)\n",
        "    return vectorized"
      ]
    },
    {
      "cell_type": "markdown",
      "source": [
        "# Không chọn tham số maxDepth vì thời gian chạy lâu và làm giảm performance.(MaxDepth = 5)"
      ],
      "metadata": {
        "id": "L3ReenzqaGB9"
      }
    },
    {
      "cell_type": "markdown",
      "metadata": {
        "id": "6wCKUCMsyfXQ"
      },
      "source": [
        "# Undersamping"
      ]
    },
    {
      "cell_type": "code",
      "execution_count": null,
      "metadata": {
        "id": "Y-v2toSEyqDD"
      },
      "outputs": [],
      "source": [
        "cols_to_scale = ['Time','Amount']\n",
        "\n",
        "scaler = RobustScaler(inputCol=\"features\", outputCol=\"scaledFeatures\")\n",
        "assembler = VectorAssembler().setInputCols(cols_to_scale).setOutputCol(\"features\")\n",
        "\n",
        "df_spark_transformed = assembler.transform(train_data)\n",
        "scaler_model = scaler.fit(df_spark_transformed.select(\"features\"))\n",
        "df_spark_scaled = scaler_model.transform(df_spark_transformed)\n",
        "\n",
        "cols = ('Time','features','Amount')\n",
        "\n",
        "df_train_spark_scaled = df_spark_scaled.drop(*cols)"
      ]
    },
    {
      "cell_type": "code",
      "execution_count": null,
      "metadata": {
        "id": "YYJ9zEeoyrzi"
      },
      "outputs": [],
      "source": [
        "df_test_spark_transformed = assembler.transform(test_data)\n",
        "df_test_spark_scaled = scaler_model.transform(df_test_spark_transformed)\n",
        "\n",
        "cols = ('Time','features','Amount')\n",
        "\n",
        "df_test_spark_scaled = df_test_spark_scaled.drop(*cols)"
      ]
    },
    {
      "cell_type": "code",
      "execution_count": null,
      "metadata": {
        "id": "DnHZ1OV4yuzm"
      },
      "outputs": [],
      "source": [
        "df_class_0 = df_train_spark_scaled.filter(df_train_spark_scaled[\"Class\"] == 0)\n",
        "df_class_1 = df_train_spark_scaled.filter(df_train_spark_scaled[\"Class\"] == 1)"
      ]
    },
    {
      "cell_type": "code",
      "execution_count": null,
      "metadata": {
        "collapsed": true,
        "id": "D8DgbPwWywzO"
      },
      "outputs": [],
      "source": [
        "sampled_majority_df = df_class_0.sample(False, 1/20)\n",
        "combined_df = sampled_majority_df.unionAll(df_class_1)"
      ]
    },
    {
      "cell_type": "code",
      "execution_count": null,
      "metadata": {
        "id": "C4E0uHeAyyZa"
      },
      "outputs": [],
      "source": [
        "train_data_new = combined_df"
      ]
    },
    {
      "cell_type": "code",
      "execution_count": null,
      "metadata": {
        "id": "FHGGa7o8y0c4"
      },
      "outputs": [],
      "source": [
        "test_data_new = df_test_spark_scaled"
      ]
    },
    {
      "cell_type": "code",
      "execution_count": null,
      "metadata": {
        "id": "IS8HQvF7y-eg"
      },
      "outputs": [],
      "source": [
        "test_data_new = vectorizerFunction(test_data_new, 'Class')\n",
        "train_data_new = vectorizerFunction(train_data_new, 'Class')"
      ]
    },
    {
      "cell_type": "markdown",
      "source": [
        "## LogisticRegressionSpark"
      ],
      "metadata": {
        "id": "tL-VvjrR4Y1I"
      }
    },
    {
      "cell_type": "code",
      "execution_count": null,
      "metadata": {
        "colab": {
          "base_uri": "https://localhost:8080/"
        },
        "id": "cBI2y87ZzHBK",
        "outputId": "1b13e178-26df-48d0-8451-307a6088a8e0"
      },
      "outputs": [
        {
          "output_type": "execute_result",
          "data": {
            "text/plain": [
              "DataFrame[features: vector, label: int, rawPrediction: vector, probability: vector, prediction: double]"
            ]
          },
          "metadata": {},
          "execution_count": 57
        }
      ],
      "source": [
        "lgr = LogisticRegressionSpark(labelCol='label',featuresCol='features')\n",
        "model_lgr = lgr.fit(train_data_new)\n",
        "model_lgr.transform(train_data_new)"
      ]
    },
    {
      "cell_type": "code",
      "execution_count": null,
      "metadata": {
        "id": "TtaN6kvrzKwM"
      },
      "outputs": [],
      "source": [
        "predictions = model_lgr.transform(test_data_new)"
      ]
    },
    {
      "cell_type": "code",
      "execution_count": null,
      "metadata": {
        "colab": {
          "base_uri": "https://localhost:8080/"
        },
        "id": "j_HtNfnNzNN_",
        "outputId": "61853ecd-6650-4b0c-b448-fe7e58df21d3"
      },
      "outputs": [
        {
          "output_type": "stream",
          "name": "stdout",
          "text": [
            "Accuracy: 0.9984204152552785\n"
          ]
        }
      ],
      "source": [
        "evaluator = MulticlassClassificationEvaluator(labelCol='label', metricName='accuracy')\n",
        "accuracy = evaluator.evaluate(predictions)\n",
        "print(f'Accuracy: {accuracy}')"
      ]
    },
    {
      "cell_type": "code",
      "source": [
        "confusion_matrix = predictions.groupBy(\"label\").pivot(\"prediction\").count().fillna(0)\n",
        "confusion_matrix.show()"
      ],
      "metadata": {
        "colab": {
          "base_uri": "https://localhost:8080/"
        },
        "id": "Wxc9O0nV4OK7",
        "outputId": "8b9d372b-ef79-4467-b046-0be42f0de441"
      },
      "execution_count": null,
      "outputs": [
        {
          "output_type": "stream",
          "name": "stdout",
          "text": [
            "+-----+-----+---+\n",
            "|label|  0.0|1.0|\n",
            "+-----+-----+---+\n",
            "|    1|   16| 69|\n",
            "|    0|56818| 74|\n",
            "+-----+-----+---+\n",
            "\n"
          ]
        }
      ]
    },
    {
      "cell_type": "code",
      "source": [
        "y_pred = predictions.select('prediction').collect()\n",
        "y_pred_array = [x[0] for x in y_pred]\n",
        "y = predictions.select('label').collect()\n",
        "y_array = [x[0] for x in y]\n",
        "from sklearn.metrics import classification_report\n",
        "print(classification_report(y_array, y_pred_array))"
      ],
      "metadata": {
        "colab": {
          "base_uri": "https://localhost:8080/"
        },
        "id": "dEu3kfyU_v0n",
        "outputId": "22fe11e7-1bcc-4063-8867-0efc58de9904"
      },
      "execution_count": null,
      "outputs": [
        {
          "output_type": "stream",
          "name": "stdout",
          "text": [
            "              precision    recall  f1-score   support\n",
            "\n",
            "           0       1.00      1.00      1.00     56892\n",
            "           1       0.48      0.81      0.61        85\n",
            "\n",
            "    accuracy                           1.00     56977\n",
            "   macro avg       0.74      0.91      0.80     56977\n",
            "weighted avg       1.00      1.00      1.00     56977\n",
            "\n"
          ]
        }
      ]
    },
    {
      "cell_type": "code",
      "source": [
        "from sklearn.metrics import precision_recall_curve, auc\n",
        "precision, recall, _ = precision_recall_curve(y_array, y_pred_array)\n",
        "\n",
        "# Calculate the area under the precision-recall curve\n",
        "auprc = auc(recall, precision)\n",
        "\n",
        "print(f\"Area Under the Precision-Recall Curve (AUPRC): {auprc:.2f}\")"
      ],
      "metadata": {
        "colab": {
          "base_uri": "https://localhost:8080/"
        },
        "id": "clr6qNm9vKCb",
        "outputId": "e9843d3d-4e5f-470a-e612-793b343377d1"
      },
      "execution_count": null,
      "outputs": [
        {
          "output_type": "stream",
          "name": "stdout",
          "text": [
            "Area Under the Precision-Recall Curve (AUPRC): 0.65\n"
          ]
        }
      ]
    },
    {
      "cell_type": "code",
      "source": [
        "auc = roc_auc_score(y_array, y_pred_array)\n",
        "print(\"AUC-ROC:\", auc)"
      ],
      "metadata": {
        "colab": {
          "base_uri": "https://localhost:8080/"
        },
        "id": "kmR2T0PDXG4i",
        "outputId": "12e9e416-3db4-4d21-a444-619586d4a105"
      },
      "execution_count": null,
      "outputs": [
        {
          "output_type": "stream",
          "name": "stdout",
          "text": [
            "AUC-ROC: 0.9052319978824688\n"
          ]
        }
      ]
    },
    {
      "cell_type": "markdown",
      "source": [
        "## RandomForestClassifierSpark"
      ],
      "metadata": {
        "id": "c-kLJEPA4be4"
      }
    },
    {
      "cell_type": "markdown",
      "source": [
        "### Chọn tham số"
      ],
      "metadata": {
        "id": "8sTkNJUPZ6Jl"
      }
    },
    {
      "cell_type": "code",
      "source": [
        "rf = RandomForestClassifierSpark(labelCol='label',featuresCol='features')\n",
        "paramGrid = (ParamGridBuilder()\n",
        "             .addGrid(rf.numTrees, [10,50,100,150,180,200]).build())\n",
        "\n",
        "# Set up the CrossValidator\n",
        "crossval = CrossValidator(estimator=rf,\n",
        "                          estimatorParamMaps=paramGrid,\n",
        "                          evaluator=MulticlassClassificationEvaluator(labelCol='label', metricName='accuracy'),\n",
        "                          numFolds=5)"
      ],
      "metadata": {
        "id": "HOlrB25H8jF4"
      },
      "execution_count": null,
      "outputs": []
    },
    {
      "cell_type": "code",
      "source": [
        "cvModel = crossval.fit(train_data_new)"
      ],
      "metadata": {
        "colab": {
          "base_uri": "https://localhost:8080/"
        },
        "id": "PA1zg08LtC1W",
        "outputId": "8fc560eb-2cdd-41c1-a5d0-56b917a6d202"
      },
      "execution_count": null,
      "outputs": [
        {
          "output_type": "stream",
          "name": "stderr",
          "text": [
            "INFO:py4j.clientserver:Closing down clientserver connection\n",
            "INFO:py4j.clientserver:Closing down clientserver connection\n",
            "2024-06-27 13:52:26,265 - py4j.clientserver - INFO - Closing down clientserver connection\n",
            "2024-06-27 13:52:26,266 - py4j.clientserver - INFO - Closing down clientserver connection\n"
          ]
        }
      ]
    },
    {
      "cell_type": "code",
      "source": [
        "# Get the best model\n",
        "bestModel = cvModel.bestModel\n",
        "# Evaluate the best model on the test data\n",
        "bestModel.transform(train_data_new)\n",
        "predictions = bestModel.transform(test_data_new)\n",
        "\n",
        "y_pred = predictions.select('prediction').collect()\n",
        "y_pred_array = [x[0] for x in y_pred]\n",
        "y = predictions.select('label').collect()\n",
        "y_array = [x[0] for x in y]\n",
        "from sklearn.metrics import classification_report\n",
        "print(classification_report(y_array, y_pred_array))"
      ],
      "metadata": {
        "colab": {
          "base_uri": "https://localhost:8080/"
        },
        "id": "7whzrMJU84Jy",
        "outputId": "9c1e9e3a-dfe8-4f64-f7bf-3b808f662fc2"
      },
      "execution_count": null,
      "outputs": [
        {
          "output_type": "stream",
          "name": "stdout",
          "text": [
            "              precision    recall  f1-score   support\n",
            "\n",
            "           0       1.00      1.00      1.00     56892\n",
            "           1       0.65      0.80      0.72        85\n",
            "\n",
            "    accuracy                           1.00     56977\n",
            "   macro avg       0.82      0.90      0.86     56977\n",
            "weighted avg       1.00      1.00      1.00     56977\n",
            "\n"
          ]
        }
      ]
    },
    {
      "cell_type": "code",
      "source": [
        "confusion_matrix = predictions.groupBy(\"label\").pivot(\"prediction\").count().fillna(0)\n",
        "confusion_matrix.show()"
      ],
      "metadata": {
        "colab": {
          "base_uri": "https://localhost:8080/"
        },
        "id": "NA3USDfbaRky",
        "outputId": "aa7f8979-c493-4dbc-f961-ded0b057d768"
      },
      "execution_count": null,
      "outputs": [
        {
          "output_type": "stream",
          "name": "stdout",
          "text": [
            "+-----+-----+---+\n",
            "|label|  0.0|1.0|\n",
            "+-----+-----+---+\n",
            "|    1|   17| 68|\n",
            "|    0|56855| 37|\n",
            "+-----+-----+---+\n",
            "\n"
          ]
        }
      ]
    },
    {
      "cell_type": "code",
      "source": [
        "from sklearn.metrics import precision_recall_curve, auc\n",
        "precision, recall, _ = precision_recall_curve(y_array, y_pred_array)\n",
        "\n",
        "# Calculate the area under the precision-recall curve\n",
        "auprc = auc(recall, precision)\n",
        "\n",
        "print(f\"Area Under the Precision-Recall Curve (AUPRC): {auprc:.2f}\")"
      ],
      "metadata": {
        "colab": {
          "base_uri": "https://localhost:8080/"
        },
        "id": "dMytmC4oaTx2",
        "outputId": "e4008eae-2eb1-4601-a407-ccb5d96589da"
      },
      "execution_count": null,
      "outputs": [
        {
          "output_type": "stream",
          "name": "stdout",
          "text": [
            "Area Under the Precision-Recall Curve (AUPRC): 0.72\n"
          ]
        }
      ]
    },
    {
      "cell_type": "code",
      "source": [
        "bestModel.getMaxDepth()"
      ],
      "metadata": {
        "colab": {
          "base_uri": "https://localhost:8080/"
        },
        "id": "poJPKXKD0UJt",
        "outputId": "398af959-7dd7-4ac2-8e0f-486ec324bbcf"
      },
      "execution_count": null,
      "outputs": [
        {
          "output_type": "execute_result",
          "data": {
            "text/plain": [
              "5"
            ]
          },
          "metadata": {},
          "execution_count": 91
        }
      ]
    },
    {
      "cell_type": "code",
      "source": [
        "bestModel"
      ],
      "metadata": {
        "colab": {
          "base_uri": "https://localhost:8080/"
        },
        "id": "J1UeolMR0Rjf",
        "outputId": "2b099a4e-7886-4734-af48-ac560f2270fc"
      },
      "execution_count": null,
      "outputs": [
        {
          "output_type": "execute_result",
          "data": {
            "text/plain": [
              "RandomForestClassificationModel: uid=RandomForestClassifier_e81d72887831, numTrees=100, numClasses=2, numFeatures=30"
            ]
          },
          "metadata": {},
          "execution_count": 93
        }
      ]
    },
    {
      "cell_type": "markdown",
      "source": [
        "### Không chọn tham số"
      ],
      "metadata": {
        "id": "UPxh6mZgZ9K6"
      }
    },
    {
      "cell_type": "code",
      "source": [
        "rf = RandomForestClassifierSpark(labelCol='label',featuresCol='features')\n",
        "model_rf = rf.fit(train_data_new)\n",
        "model_rf.transform(train_data_new)"
      ],
      "metadata": {
        "colab": {
          "base_uri": "https://localhost:8080/"
        },
        "id": "rpE6Zg2P4cQC",
        "outputId": "c99ce5a1-9a3a-464d-9279-99e560b36f48"
      },
      "execution_count": null,
      "outputs": [
        {
          "output_type": "execute_result",
          "data": {
            "text/plain": [
              "DataFrame[features: vector, label: int, rawPrediction: vector, probability: vector, prediction: double]"
            ]
          },
          "metadata": {},
          "execution_count": 64
        }
      ]
    },
    {
      "cell_type": "code",
      "source": [
        "predictions = model_rf.transform(test_data_new)"
      ],
      "metadata": {
        "id": "oPEEnnx14gfC"
      },
      "execution_count": null,
      "outputs": []
    },
    {
      "cell_type": "code",
      "source": [
        "confusion_matrix = predictions.groupBy(\"label\").pivot(\"prediction\").count().fillna(0)\n",
        "confusion_matrix.show()"
      ],
      "metadata": {
        "colab": {
          "base_uri": "https://localhost:8080/"
        },
        "id": "VwqKmZRZ4uvf",
        "outputId": "56f0fde0-e63d-4506-ed20-f682b97fa721"
      },
      "execution_count": null,
      "outputs": [
        {
          "output_type": "stream",
          "name": "stdout",
          "text": [
            "+-----+-----+---+\n",
            "|label|  0.0|1.0|\n",
            "+-----+-----+---+\n",
            "|    1|   16| 69|\n",
            "|    0|56864| 28|\n",
            "+-----+-----+---+\n",
            "\n"
          ]
        }
      ]
    },
    {
      "cell_type": "code",
      "source": [
        "y_pred = predictions.select('prediction').collect()\n",
        "y_pred_array = [x[0] for x in y_pred]\n",
        "y = predictions.select('label').collect()\n",
        "y_array = [x[0] for x in y]\n",
        "from sklearn.metrics import classification_report\n",
        "print(classification_report(y_array, y_pred_array))"
      ],
      "metadata": {
        "colab": {
          "base_uri": "https://localhost:8080/"
        },
        "id": "EgkhW3F3RNcu",
        "outputId": "b0757a42-2483-4c70-dade-62e485a16fa6"
      },
      "execution_count": null,
      "outputs": [
        {
          "output_type": "stream",
          "name": "stdout",
          "text": [
            "              precision    recall  f1-score   support\n",
            "\n",
            "           0       1.00      1.00      1.00     56892\n",
            "           1       0.71      0.81      0.76        85\n",
            "\n",
            "    accuracy                           1.00     56977\n",
            "   macro avg       0.86      0.91      0.88     56977\n",
            "weighted avg       1.00      1.00      1.00     56977\n",
            "\n"
          ]
        }
      ]
    },
    {
      "cell_type": "code",
      "source": [
        "from sklearn.metrics import precision_recall_curve, auc\n",
        "precision, recall, _ = precision_recall_curve(y_array, y_pred_array)\n",
        "\n",
        "# Calculate the area under the precision-recall curve\n",
        "auprc = auc(recall, precision)\n",
        "\n",
        "print(f\"Area Under the Precision-Recall Curve (AUPRC): {auprc:.2f}\")"
      ],
      "metadata": {
        "colab": {
          "base_uri": "https://localhost:8080/"
        },
        "id": "hZJgxTw0wyCY",
        "outputId": "64579570-9bf8-45b6-9324-38ec24d405fb"
      },
      "execution_count": null,
      "outputs": [
        {
          "output_type": "stream",
          "name": "stdout",
          "text": [
            "Area Under the Precision-Recall Curve (AUPRC): 0.76\n"
          ]
        }
      ]
    },
    {
      "cell_type": "code",
      "source": [
        "auc = roc_auc_score(y_array, y_pred_array)\n",
        "print(\"AUC-ROC:\", auc)"
      ],
      "metadata": {
        "colab": {
          "base_uri": "https://localhost:8080/"
        },
        "id": "bbIHiVcTXXFz",
        "outputId": "2dc549b4-53ec-4c15-fb4d-74f044b2cefb"
      },
      "execution_count": null,
      "outputs": [
        {
          "output_type": "stream",
          "name": "stdout",
          "text": [
            "AUC-ROC: 0.9056362726486924\n"
          ]
        }
      ]
    },
    {
      "cell_type": "markdown",
      "metadata": {
        "id": "w2r7y2wkbkNI"
      },
      "source": [
        "# Oversampling by duplicating minority class"
      ]
    },
    {
      "cell_type": "code",
      "execution_count": null,
      "metadata": {
        "id": "GN6f5rBIgn2I"
      },
      "outputs": [],
      "source": [
        "cols_to_scale = ['Time','Amount']\n",
        "\n",
        "scaler = RobustScaler(inputCol=\"features\", outputCol=\"scaledFeatures\")\n",
        "assembler = VectorAssembler().setInputCols(cols_to_scale).setOutputCol(\"features\")\n",
        "\n",
        "df_spark_transformed = assembler.transform(train_data)\n",
        "scaler_model = scaler.fit(df_spark_transformed.select(\"features\"))\n",
        "df_spark_scaled = scaler_model.transform(df_spark_transformed)\n",
        "\n",
        "cols = ('Time','features','Amount')\n",
        "\n",
        "df_train_spark_scaled = df_spark_scaled.drop(*cols)"
      ]
    },
    {
      "cell_type": "code",
      "execution_count": null,
      "metadata": {
        "id": "uqQKAzltuIJm"
      },
      "outputs": [],
      "source": [
        "df_test_spark_transformed = assembler.transform(test_data)\n",
        "df_test_spark_scaled = scaler_model.transform(df_test_spark_transformed)\n",
        "\n",
        "cols = ('Time','features','Amount')\n",
        "\n",
        "df_test_spark_scaled = df_test_spark_scaled.drop(*cols)"
      ]
    },
    {
      "cell_type": "code",
      "execution_count": null,
      "metadata": {
        "id": "J4p2DsJebrgj"
      },
      "outputs": [],
      "source": [
        "df_class_0 = df_train_spark_scaled.filter(df_train_spark_scaled[\"Class\"] == 0)\n",
        "df_class_1 = df_train_spark_scaled.filter(df_train_spark_scaled[\"Class\"] == 1)"
      ]
    },
    {
      "cell_type": "code",
      "execution_count": null,
      "metadata": {
        "id": "PNgila2Ydojb"
      },
      "outputs": [],
      "source": [
        "a = range(100)\n",
        "# duplicate the minority rows\n",
        "oversampled_df = df_class_1.withColumn(\"dummy\", explode(array([lit(x) for x in a]))).drop('dummy')\n",
        "# combine both oversampled minority rows and previous majority rows\n",
        "combined_df = df_class_0.unionAll(oversampled_df)"
      ]
    },
    {
      "cell_type": "code",
      "execution_count": null,
      "metadata": {
        "id": "7UgCeI6ecaR6"
      },
      "outputs": [],
      "source": [
        "train_data_new = combined_df"
      ]
    },
    {
      "cell_type": "code",
      "execution_count": null,
      "metadata": {
        "id": "qqAtO22MwY8q"
      },
      "outputs": [],
      "source": [
        "test_data_new = df_test_spark_scaled"
      ]
    },
    {
      "cell_type": "code",
      "execution_count": null,
      "metadata": {
        "id": "7vFd8XD6cXE5"
      },
      "outputs": [],
      "source": [
        "test_data_new = vectorizerFunction(test_data_new, 'Class')\n",
        "train_data_new = vectorizerFunction(train_data_new, 'Class')"
      ]
    },
    {
      "cell_type": "code",
      "source": [
        "value_0 = train_data_new.filter(train_data_new.label == 0)\n",
        "value_1 = train_data_new.filter(train_data_new.label == 1)\n",
        "value_0.count()/train_data_new.count(), value_1.count()/train_data_new.count()"
      ],
      "metadata": {
        "colab": {
          "base_uri": "https://localhost:8080/"
        },
        "id": "aH2tXzOOAprk",
        "outputId": "94c6e932-0e6e-4dc1-89f5-45f494f33f4f"
      },
      "execution_count": null,
      "outputs": [
        {
          "output_type": "execute_result",
          "data": {
            "text/plain": [
              "(0.8482039959272424, 0.15179600407275765)"
            ]
          },
          "metadata": {},
          "execution_count": 87
        }
      ]
    },
    {
      "cell_type": "markdown",
      "metadata": {
        "id": "TFrlplmwx4CX"
      },
      "source": [
        "## LogisticRegressionSpark"
      ]
    },
    {
      "cell_type": "code",
      "execution_count": null,
      "metadata": {
        "colab": {
          "base_uri": "https://localhost:8080/"
        },
        "id": "2nIk4qctcKGj",
        "outputId": "aebcfc33-53ab-44b3-8688-fd8702bb230a"
      },
      "outputs": [
        {
          "output_type": "execute_result",
          "data": {
            "text/plain": [
              "DataFrame[features: vector, label: int, rawPrediction: vector, probability: vector, prediction: double]"
            ]
          },
          "metadata": {},
          "execution_count": 88
        }
      ],
      "source": [
        "lgr = LogisticRegressionSpark(labelCol='label',featuresCol='features')\n",
        "model_lgr = lgr.fit(train_data_new)\n",
        "model_lgr.transform(train_data_new)"
      ]
    },
    {
      "cell_type": "code",
      "execution_count": null,
      "metadata": {
        "id": "tmUvRoKQcNTG"
      },
      "outputs": [],
      "source": [
        "predictions = model_lgr.transform(test_data_new)"
      ]
    },
    {
      "cell_type": "code",
      "source": [
        "confusion_matrix = predictions.groupBy(\"label\").pivot(\"prediction\").count().fillna(0)\n",
        "confusion_matrix.show()"
      ],
      "metadata": {
        "colab": {
          "base_uri": "https://localhost:8080/"
        },
        "id": "G0rJ3xRs5nWa",
        "outputId": "c7b1de5b-1671-47f3-c434-5ee312e49ed4"
      },
      "execution_count": null,
      "outputs": [
        {
          "output_type": "stream",
          "name": "stdout",
          "text": [
            "+-----+-----+---+\n",
            "|label|  0.0|1.0|\n",
            "+-----+-----+---+\n",
            "|    1|   15| 70|\n",
            "|    0|56690|202|\n",
            "+-----+-----+---+\n",
            "\n"
          ]
        }
      ]
    },
    {
      "cell_type": "code",
      "source": [
        "y_pred = predictions.select('prediction').collect()\n",
        "y_pred_array = [x[0] for x in y_pred]\n",
        "y = predictions.select('label').collect()\n",
        "y_array = [x[0] for x in y]\n",
        "from sklearn.metrics import classification_report\n",
        "print(classification_report(y_array, y_pred_array))"
      ],
      "metadata": {
        "colab": {
          "base_uri": "https://localhost:8080/"
        },
        "id": "sE06aivHRR9u",
        "outputId": "6ef6bc55-a889-4f4f-bd6a-8c28a74067e0"
      },
      "execution_count": null,
      "outputs": [
        {
          "output_type": "stream",
          "name": "stdout",
          "text": [
            "              precision    recall  f1-score   support\n",
            "\n",
            "           0       1.00      1.00      1.00     56892\n",
            "           1       0.26      0.82      0.39        85\n",
            "\n",
            "    accuracy                           1.00     56977\n",
            "   macro avg       0.63      0.91      0.70     56977\n",
            "weighted avg       1.00      1.00      1.00     56977\n",
            "\n"
          ]
        }
      ]
    },
    {
      "cell_type": "code",
      "source": [
        "from sklearn.metrics import precision_recall_curve, auc\n",
        "precision, recall, _ = precision_recall_curve(y_array, y_pred_array)\n",
        "\n",
        "# Calculate the area under the precision-recall curve\n",
        "auprc = auc(recall, precision)\n",
        "\n",
        "print(f\"Area Under the Precision-Recall Curve (AUPRC): {auprc:.2f}\")"
      ],
      "metadata": {
        "colab": {
          "base_uri": "https://localhost:8080/"
        },
        "id": "CJHngMPvxAaU",
        "outputId": "bb0b2e19-0354-46ba-f7d4-f6f7ede3ec47"
      },
      "execution_count": null,
      "outputs": [
        {
          "output_type": "stream",
          "name": "stdout",
          "text": [
            "Area Under the Precision-Recall Curve (AUPRC): 0.54\n"
          ]
        }
      ]
    },
    {
      "cell_type": "code",
      "source": [
        "auc = roc_auc_score(y_array, y_pred_array)\n",
        "print(\"AUC-ROC:\", auc)"
      ],
      "metadata": {
        "colab": {
          "base_uri": "https://localhost:8080/"
        },
        "id": "mlfrMTqZZ95_",
        "outputId": "acc7bb01-eb5e-42bc-9cdb-e51a23e6246c"
      },
      "execution_count": null,
      "outputs": [
        {
          "output_type": "stream",
          "name": "stdout",
          "text": [
            "AUC-ROC: 0.9099894123437183\n"
          ]
        }
      ]
    },
    {
      "cell_type": "markdown",
      "metadata": {
        "id": "pNhPifM4xzbR"
      },
      "source": [
        "## RandomForestClassifierSpark"
      ]
    },
    {
      "cell_type": "markdown",
      "source": [
        "### Chọn tham số"
      ],
      "metadata": {
        "id": "6xjA_xN6ZVy6"
      }
    },
    {
      "cell_type": "code",
      "source": [
        "rf = RandomForestClassifierSpark(labelCol='label',featuresCol='features')\n",
        "paramGrid = (ParamGridBuilder()\n",
        "             .addGrid(rf.numTrees, [5,8,10,50,100]).build())\n",
        "\n",
        "# Set up the CrossValidator\n",
        "crossval = CrossValidator(estimator=rf,\n",
        "                          estimatorParamMaps=paramGrid,\n",
        "                          evaluator=MulticlassClassificationEvaluator(labelCol='label', metricName='accuracy'),\n",
        "                          numFolds=5)"
      ],
      "metadata": {
        "id": "LQspwZSYXJ_5"
      },
      "execution_count": null,
      "outputs": []
    },
    {
      "cell_type": "code",
      "source": [
        "cvModel = crossval.fit(train_data_new)"
      ],
      "metadata": {
        "colab": {
          "base_uri": "https://localhost:8080/"
        },
        "id": "4ru6_VO6VWzy",
        "outputId": "29b36954-3379-4f82-8f30-08829101038f"
      },
      "execution_count": null,
      "outputs": [
        {
          "output_type": "stream",
          "name": "stderr",
          "text": [
            "INFO:py4j.clientserver:Closing down clientserver connection\n",
            "INFO:py4j.clientserver:Closing down clientserver connection\n",
            "2024-06-27 15:55:28,317 - py4j.clientserver - INFO - Closing down clientserver connection\n",
            "2024-06-27 15:55:28,318 - py4j.clientserver - INFO - Closing down clientserver connection\n"
          ]
        }
      ]
    },
    {
      "cell_type": "code",
      "source": [
        "# Get the best model\n",
        "bestModel = cvModel.bestModel\n",
        "# Evaluate the best model on the test data\n",
        "bestModel.transform(train_data_new)\n",
        "predictions = bestModel.transform(test_data_new)\n",
        "\n",
        "y_pred = predictions.select('prediction').collect()\n",
        "y_pred_array = [x[0] for x in y_pred]\n",
        "y = predictions.select('label').collect()\n",
        "y_array = [x[0] for x in y]\n",
        "from sklearn.metrics import classification_report\n",
        "print(classification_report(y_array, y_pred_array))"
      ],
      "metadata": {
        "colab": {
          "base_uri": "https://localhost:8080/"
        },
        "id": "CztosWprXMq-",
        "outputId": "3d224e43-81cd-418d-d429-780c4209f085"
      },
      "execution_count": null,
      "outputs": [
        {
          "output_type": "stream",
          "name": "stdout",
          "text": [
            "              precision    recall  f1-score   support\n",
            "\n",
            "           0       1.00      1.00      1.00     56892\n",
            "           1       0.65      0.80      0.72        85\n",
            "\n",
            "    accuracy                           1.00     56977\n",
            "   macro avg       0.82      0.90      0.86     56977\n",
            "weighted avg       1.00      1.00      1.00     56977\n",
            "\n"
          ]
        }
      ]
    },
    {
      "cell_type": "code",
      "source": [
        "confusion_matrix = predictions.groupBy(\"label\").pivot(\"prediction\").count().fillna(0)\n",
        "confusion_matrix.show()"
      ],
      "metadata": {
        "colab": {
          "base_uri": "https://localhost:8080/"
        },
        "id": "1ljvYCnYZN2G",
        "outputId": "ff074746-8286-47e3-be35-ed1a6e40ecc7"
      },
      "execution_count": null,
      "outputs": [
        {
          "output_type": "stream",
          "name": "stdout",
          "text": [
            "+-----+-----+---+\n",
            "|label|  0.0|1.0|\n",
            "+-----+-----+---+\n",
            "|    1|   17| 68|\n",
            "|    0|56855| 37|\n",
            "+-----+-----+---+\n",
            "\n"
          ]
        }
      ]
    },
    {
      "cell_type": "code",
      "source": [
        "from sklearn.metrics import precision_recall_curve, auc\n",
        "precision, recall, _ = precision_recall_curve(y_array, y_pred_array)\n",
        "\n",
        "# Calculate the area under the precision-recall curve\n",
        "auprc = auc(recall, precision)\n",
        "\n",
        "print(f\"Area Under the Precision-Recall Curve (AUPRC): {auprc:.2f}\")"
      ],
      "metadata": {
        "colab": {
          "base_uri": "https://localhost:8080/"
        },
        "id": "5SDBphkHZFTF",
        "outputId": "5d000189-1cac-4617-9a5f-7ba7a21f5fbe"
      },
      "execution_count": null,
      "outputs": [
        {
          "output_type": "stream",
          "name": "stdout",
          "text": [
            "Area Under the Precision-Recall Curve (AUPRC): 0.72\n"
          ]
        }
      ]
    },
    {
      "cell_type": "code",
      "source": [
        "bestModel"
      ],
      "metadata": {
        "colab": {
          "base_uri": "https://localhost:8080/"
        },
        "id": "HIStH6wzfkFx",
        "outputId": "a2ff61bd-8d07-410f-9c01-fc2130772a26"
      },
      "execution_count": null,
      "outputs": [
        {
          "output_type": "execute_result",
          "data": {
            "text/plain": [
              "RandomForestClassificationModel: uid=RandomForestClassifier_341336dadf99, numTrees=10, numClasses=2, numFeatures=30"
            ]
          },
          "metadata": {},
          "execution_count": 211
        }
      ]
    },
    {
      "cell_type": "markdown",
      "source": [
        "### Không chọn tham số"
      ],
      "metadata": {
        "id": "L7unoG7cZSxt"
      }
    },
    {
      "cell_type": "code",
      "execution_count": null,
      "metadata": {
        "colab": {
          "base_uri": "https://localhost:8080/"
        },
        "id": "1NrZx9eUxbEk",
        "outputId": "a8befb62-981c-4bd9-fafb-64393659ee85"
      },
      "outputs": [
        {
          "output_type": "execute_result",
          "data": {
            "text/plain": [
              "DataFrame[features: vector, label: int, rawPrediction: vector, probability: vector, prediction: double]"
            ]
          },
          "metadata": {},
          "execution_count": 94
        }
      ],
      "source": [
        "rf = RandomForestClassifierSpark(labelCol='label',featuresCol='features')\n",
        "model_rf = rf.fit(train_data_new)\n",
        "model_rf.transform(train_data_new)"
      ]
    },
    {
      "cell_type": "code",
      "execution_count": null,
      "metadata": {
        "id": "dyRGucS7xg4C"
      },
      "outputs": [],
      "source": [
        "predictions = model_rf.transform(test_data_new)"
      ]
    },
    {
      "cell_type": "code",
      "source": [
        "confusion_matrix = predictions.groupBy(\"label\").pivot(\"prediction\").count().fillna(0)\n",
        "confusion_matrix.show()"
      ],
      "metadata": {
        "colab": {
          "base_uri": "https://localhost:8080/"
        },
        "id": "0j5X9oko5ve3",
        "outputId": "f6f1ab23-97ec-4d0b-a4d0-4448d8f82b81"
      },
      "execution_count": null,
      "outputs": [
        {
          "output_type": "stream",
          "name": "stdout",
          "text": [
            "+-----+-----+---+\n",
            "|label|  0.0|1.0|\n",
            "+-----+-----+---+\n",
            "|    1|   16| 69|\n",
            "|    0|56855| 37|\n",
            "+-----+-----+---+\n",
            "\n"
          ]
        }
      ]
    },
    {
      "cell_type": "code",
      "source": [
        "y_pred = predictions.select('prediction').collect()\n",
        "y_pred_array = [x[0] for x in y_pred]\n",
        "y = predictions.select('label').collect()\n",
        "y_array = [x[0] for x in y]\n",
        "from sklearn.metrics import classification_report\n",
        "print(classification_report(y_array, y_pred_array))"
      ],
      "metadata": {
        "colab": {
          "base_uri": "https://localhost:8080/"
        },
        "id": "1H5D7R0ERS_h",
        "outputId": "1d88acd0-965a-4f05-c8db-b26a657d8b87"
      },
      "execution_count": null,
      "outputs": [
        {
          "output_type": "stream",
          "name": "stdout",
          "text": [
            "              precision    recall  f1-score   support\n",
            "\n",
            "           0       1.00      1.00      1.00     56892\n",
            "           1       0.65      0.81      0.72        85\n",
            "\n",
            "    accuracy                           1.00     56977\n",
            "   macro avg       0.83      0.91      0.86     56977\n",
            "weighted avg       1.00      1.00      1.00     56977\n",
            "\n"
          ]
        }
      ]
    },
    {
      "cell_type": "code",
      "source": [
        "from sklearn.metrics import precision_recall_curve, auc\n",
        "precision, recall, _ = precision_recall_curve(y_array, y_pred_array)\n",
        "\n",
        "# Calculate the area under the precision-recall curve\n",
        "auprc = auc(recall, precision)\n",
        "\n",
        "print(f\"Area Under the Precision-Recall Curve (AUPRC): {auprc:.2f}\")"
      ],
      "metadata": {
        "colab": {
          "base_uri": "https://localhost:8080/"
        },
        "id": "7PpXc2j1xB69",
        "outputId": "78a35f94-1548-46a3-e295-f58c7833cc50"
      },
      "execution_count": null,
      "outputs": [
        {
          "output_type": "stream",
          "name": "stdout",
          "text": [
            "Area Under the Precision-Recall Curve (AUPRC): 0.73\n"
          ]
        }
      ]
    },
    {
      "cell_type": "code",
      "source": [
        "auc = roc_auc_score(y_array, y_pred_array)\n",
        "print(\"AUC-ROC:\", auc)"
      ],
      "metadata": {
        "colab": {
          "base_uri": "https://localhost:8080/"
        },
        "id": "1ZPV7m8kaBS6",
        "outputId": "1bc6e714-b6a4-4408-874d-3b88ba5a9bb3"
      },
      "execution_count": null,
      "outputs": [
        {
          "output_type": "stream",
          "name": "stdout",
          "text": [
            "AUC-ROC: 0.9055571754118227\n"
          ]
        }
      ]
    },
    {
      "cell_type": "markdown",
      "metadata": {
        "id": "-_toas0SyRqO"
      },
      "source": [
        "# DL (Kết quả tốt nhất)"
      ]
    },
    {
      "cell_type": "markdown",
      "source": [
        "## Chạy model và lưu kết quả"
      ],
      "metadata": {
        "id": "SWwPqfsF3p0P"
      }
    },
    {
      "cell_type": "code",
      "source": [
        "# ! pip install tensorflow tensorflowonspark"
      ],
      "metadata": {
        "id": "v_At5uZZiPfa"
      },
      "execution_count": null,
      "outputs": []
    },
    {
      "cell_type": "code",
      "execution_count": null,
      "metadata": {
        "id": "Yd_JHkt1zaPu"
      },
      "outputs": [],
      "source": [
        "# df_spark = spark.read.format(\"csv\").load(\"creditcard.csv\",header = 'True',inferSchema='True')"
      ]
    },
    {
      "cell_type": "code",
      "execution_count": null,
      "metadata": {
        "id": "NuC5nCIbkGmJ"
      },
      "outputs": [],
      "source": [
        "# train_data, test_data = df_spark.randomSplit([0.8, 0.2], seed=42)"
      ]
    },
    {
      "cell_type": "code",
      "execution_count": null,
      "metadata": {
        "id": "SlTBabCgkPbZ"
      },
      "outputs": [],
      "source": [
        "# from pyspark.ml.feature import MinMaxScaler, StandardScaler, RobustScaler\n",
        "# cols_to_scale = ['Time','Amount']\n",
        "\n",
        "# scaler = RobustScaler(inputCol=\"features\", outputCol=\"scaledFeatures\")\n",
        "# assembler = VectorAssembler().setInputCols(cols_to_scale).setOutputCol(\"features\")\n",
        "\n",
        "# df_spark_transformed = assembler.transform(train_data)\n",
        "# scaler_model = scaler.fit(df_spark_transformed.select(\"features\"))\n",
        "# df_spark_scaled = scaler_model.transform(df_spark_transformed)\n",
        "\n",
        "# cols = ('Time','features','Amount')\n",
        "\n",
        "# df_train_spark_scaled = df_spark_scaled.drop(*cols)"
      ]
    },
    {
      "cell_type": "code",
      "execution_count": null,
      "metadata": {
        "id": "M-Y7GPk3kSRg"
      },
      "outputs": [],
      "source": [
        "# df_test_spark_transformed = assembler.transform(test_data)\n",
        "# df_test_spark_scaled = scaler_model.transform(df_test_spark_transformed)\n",
        "\n",
        "# cols = ('Time','features','Amount')\n",
        "\n",
        "# df_test_spark_scaled = df_test_spark_scaled.drop(*cols)"
      ]
    },
    {
      "cell_type": "code",
      "source": [
        "scaler = RobustScaler(inputCol=\"features_T_A\", outputCol=\"scaledFeatures\")\n",
        "assembler = VectorAssembler().setInputCols(['Time','Amount']).setOutputCol(\"features_T_A\")\n",
        "assembler_2 = VectorAssembler().setInputCols(['V1','V2','V3','V4','V5','V6','V7','V8','V9','V10','V11','V12','V13','V14','V15','V16','V17','V18','V19','V20','V21','V22','V23','V24','V25','V26','V27','V28',\"scaledFeatures\"]).setOutputCol(\"features\")\n",
        "pipeline = Pipeline( stages = [assembler,scaler,assembler_2])"
      ],
      "metadata": {
        "id": "YgPS2DtHYYKv"
      },
      "execution_count": null,
      "outputs": []
    },
    {
      "cell_type": "code",
      "source": [
        "pipe = pipeline.fit(train_data)"
      ],
      "metadata": {
        "id": "smoO6LJPYpei"
      },
      "execution_count": null,
      "outputs": []
    },
    {
      "cell_type": "code",
      "source": [
        "df_spark_scaled = pipe.transform(train_data)\n",
        "df_test_spark_scaled = pipe.transform(test_data)\n",
        "\n",
        "# cols = ('Time','features','Amount')\n",
        "# df_train_spark_scaled = df_spark_scaled.drop(*cols)\n",
        "# df_test_spark_scaled = df_test_spark_scaled.drop(*cols)"
      ],
      "metadata": {
        "id": "Q4yYBm_-Y5un"
      },
      "execution_count": null,
      "outputs": []
    },
    {
      "cell_type": "code",
      "source": [
        "import os\n",
        "MD_dir = os.path.join('/content/drive/MyDrive/DS200/Project', \"DL_Model.h5\")"
      ],
      "metadata": {
        "id": "D3l6UP_GFRXD"
      },
      "execution_count": null,
      "outputs": []
    },
    {
      "cell_type": "code",
      "execution_count": null,
      "metadata": {
        "id": "iJs6u-uBgPnG"
      },
      "outputs": [],
      "source": [
        "def Model_batch_fn():\n",
        "    import tensorflow as tf\n",
        "    model = tf.keras.models.load_model(MD_dir)\n",
        "    def predict(inputs: np.str_) -> np.ndarray:\n",
        "        return model.predict(inputs)\n",
        "\n",
        "    return predict"
      ]
    },
    {
      "cell_type": "code",
      "source": [
        "# df_spark_scaled.select(\"features\").first()[0].toArray().tolist()"
      ],
      "metadata": {
        "collapsed": true,
        "id": "2LwEuXGyjQ35"
      },
      "execution_count": null,
      "outputs": []
    },
    {
      "cell_type": "code",
      "execution_count": null,
      "metadata": {
        "id": "wNcTvXTatHsb"
      },
      "outputs": [],
      "source": [
        "from pyspark.sql.functions import udf\n",
        "from pyspark.sql.types import ArrayType, DoubleType, FloatType\n",
        "to_array = udf(lambda v: v.toArray().tolist(), ArrayType(DoubleType()))"
      ]
    },
    {
      "cell_type": "code",
      "execution_count": null,
      "metadata": {
        "id": "NtoJuib3qhWY"
      },
      "outputs": [],
      "source": [
        "from pyspark.sql.functions import explode\n",
        "test_data_new_array = df_test_spark_scaled.withColumn('features_array', to_array('features'))"
      ]
    },
    {
      "cell_type": "code",
      "execution_count": null,
      "metadata": {
        "id": "D4UwUVIxuESs"
      },
      "outputs": [],
      "source": [
        "# input_shape = len(test_data_new_array.collect()[0]['features_array'])"
      ]
    },
    {
      "cell_type": "code",
      "execution_count": null,
      "metadata": {
        "id": "LloN1NlGgbNE"
      },
      "outputs": [],
      "source": [
        "RNN_sent = predict_batch_udf(Model_batch_fn,\n",
        "                          return_type=ArrayType(FloatType()),\n",
        "                          batch_size=16,\n",
        "                          input_tensor_shapes=[[30, ]])"
      ]
    },
    {
      "cell_type": "code",
      "source": [
        "# type(RNN_preds.select(\"preds\").first()[0])"
      ],
      "metadata": {
        "id": "ksj0t1z5tCuD"
      },
      "execution_count": null,
      "outputs": []
    },
    {
      "cell_type": "code",
      "execution_count": null,
      "metadata": {
        "id": "EaPnoZv0nFVH",
        "collapsed": true
      },
      "outputs": [],
      "source": [
        "# Apply the UDF to the combined array column\n",
        "RNN_preds = test_data_new_array.withColumn(\"preds\", RNN_sent(\"features_array\")).toPandas()"
      ]
    },
    {
      "cell_type": "code",
      "execution_count": null,
      "metadata": {
        "colab": {
          "base_uri": "https://localhost:8080/"
        },
        "id": "hVJQVW_7x3Jy",
        "outputId": "eaffa83c-b954-4aa0-c26e-b1931b04ba00"
      },
      "outputs": [
        {
          "output_type": "stream",
          "name": "stdout",
          "text": [
            "Accuracy: 0.9995612264597996\n"
          ]
        }
      ],
      "source": [
        "from pyspark.sql.functions import udf\n",
        "from pyspark.sql.types import DoubleType, ArrayType\n",
        "from pyspark.ml.evaluation import MulticlassClassificationEvaluator # Import the missing class\n",
        "\n",
        "# Assuming your model outputs probabilities and you want the class with highest probability\n",
        "def get_predicted_class(preds):\n",
        "  return float(np.argmax(preds))  # Convert to float for DoubleType compatibility\n",
        "\n",
        "get_predicted_class_udf = udf(get_predicted_class, DoubleType())\n",
        "RNN_preds_spark = spark.createDataFrame(RNN_preds)\n",
        "# Apply the UDF to extract the predicted class from the array\n",
        "RNN_preds_spark = RNN_preds_spark.withColumn(\"preds\", get_predicted_class_udf(\"preds\"))\n",
        "\n",
        "# Now evaluate the accuracy\n",
        "evaluator = MulticlassClassificationEvaluator(labelCol='Class', predictionCol='preds', metricName='accuracy')\n",
        "accuracy = evaluator.evaluate(RNN_preds_spark)\n",
        "print(f'Accuracy: {accuracy}')"
      ]
    },
    {
      "cell_type": "code",
      "source": [
        "y_pred = RNN_preds_spark.select('preds').collect()\n",
        "y_pred_array = [x[0] for x in y_pred]\n",
        "y = RNN_preds_spark.select('Class').collect()\n",
        "y_array = [x[0] for x in y]\n",
        "from sklearn.metrics import classification_report\n",
        "print(classification_report(y_array, y_pred_array))"
      ],
      "metadata": {
        "colab": {
          "base_uri": "https://localhost:8080/"
        },
        "id": "nFQ0Q81lXlgV",
        "outputId": "60590d54-79d6-4d88-d3b2-07c08b192575"
      },
      "execution_count": null,
      "outputs": [
        {
          "output_type": "stream",
          "name": "stdout",
          "text": [
            "              precision    recall  f1-score   support\n",
            "\n",
            "           0       1.00      1.00      1.00     56892\n",
            "           1       0.86      0.85      0.85        85\n",
            "\n",
            "    accuracy                           1.00     56977\n",
            "   macro avg       0.93      0.92      0.93     56977\n",
            "weighted avg       1.00      1.00      1.00     56977\n",
            "\n"
          ]
        }
      ]
    },
    {
      "cell_type": "code",
      "source": [
        "from sklearn.metrics import precision_recall_curve, auc\n",
        "precision, recall, _ = precision_recall_curve(y_array, y_pred_array)\n",
        "\n",
        "# Calculate the area under the precision-recall curve\n",
        "auprc = auc(recall, precision)\n",
        "\n",
        "print(f\"Area Under the Precision-Recall Curve (AUPRC): {auprc:.2f}\")"
      ],
      "metadata": {
        "colab": {
          "base_uri": "https://localhost:8080/"
        },
        "id": "wThOh4Hqylef",
        "outputId": "c619c2e8-8e40-486e-d663-f2c5cea273ee"
      },
      "execution_count": null,
      "outputs": [
        {
          "output_type": "stream",
          "name": "stdout",
          "text": [
            "Area Under the Precision-Recall Curve (AUPRC): 0.85\n"
          ]
        }
      ]
    },
    {
      "cell_type": "code",
      "source": [
        "auc = roc_auc_score(y_array, y_pred_array)\n",
        "print(\"AUC-ROC:\", auc)"
      ],
      "metadata": {
        "colab": {
          "base_uri": "https://localhost:8080/"
        },
        "id": "43zIJoMkcJ6s",
        "outputId": "6e5be062-1588-4c46-99c4-876a96dd231a"
      },
      "execution_count": null,
      "outputs": [
        {
          "output_type": "stream",
          "name": "stdout",
          "text": [
            "AUC-ROC: 0.9234239487822128\n"
          ]
        }
      ]
    },
    {
      "cell_type": "code",
      "source": [
        "# pipe.write().overwrite().save(\"Pipe\")"
      ],
      "metadata": {
        "id": "eDU0CB6CXKjo"
      },
      "execution_count": null,
      "outputs": []
    },
    {
      "cell_type": "code",
      "source": [
        "confusion_matrix = RNN_preds_spark.groupBy(\"Class\").pivot(\"preds\").count().fillna(0)\n",
        "confusion_matrix.show()"
      ],
      "metadata": {
        "colab": {
          "base_uri": "https://localhost:8080/"
        },
        "id": "vQ-ro0isGou4",
        "outputId": "5787ddd5-b6a5-469b-eced-2b6802c65d91"
      },
      "execution_count": null,
      "outputs": [
        {
          "output_type": "stream",
          "name": "stdout",
          "text": [
            "+-----+-----+---+\n",
            "|Class|  0.0|1.0|\n",
            "+-----+-----+---+\n",
            "|    0|56880| 12|\n",
            "|    1|   13| 72|\n",
            "+-----+-----+---+\n",
            "\n"
          ]
        }
      ]
    },
    {
      "cell_type": "markdown",
      "source": [
        "* Lưu scaler và model thành 2 file riêng."
      ],
      "metadata": {
        "id": "ZEQ21D_oXuGb"
      }
    },
    {
      "cell_type": "markdown",
      "source": [
        "## Load và chạy model và scaler"
      ],
      "metadata": {
        "id": "cC1o-u5pX23_"
      }
    },
    {
      "cell_type": "code",
      "source": [
        "df_spark = spark.read.format(\"csv\").load(\"creditcard.csv\",header = 'True',inferSchema='True')"
      ],
      "metadata": {
        "id": "c-45FZMYcj2s"
      },
      "execution_count": null,
      "outputs": []
    },
    {
      "cell_type": "code",
      "source": [
        "train_data, test_data = df_spark.randomSplit([0.8, 0.2], seed=42)"
      ],
      "metadata": {
        "id": "rvpcGLnscmPX"
      },
      "execution_count": null,
      "outputs": []
    },
    {
      "cell_type": "code",
      "source": [
        "from pyspark.ml import PipelineModel\n",
        "pipe = PipelineModel.read().load(\"Pipe\")"
      ],
      "metadata": {
        "id": "APLjjocoX5x5"
      },
      "execution_count": null,
      "outputs": []
    },
    {
      "cell_type": "code",
      "source": [
        "df_test_spark_scaled = pipe.transform(test_data)"
      ],
      "metadata": {
        "id": "V9mvbkoVchJT"
      },
      "execution_count": null,
      "outputs": []
    },
    {
      "cell_type": "code",
      "source": [
        "from pyspark.sql.functions import udf\n",
        "from pyspark.sql.types import ArrayType, DoubleType, FloatType\n",
        "to_array = udf(lambda v: v.toArray().tolist(), ArrayType(DoubleType()))"
      ],
      "metadata": {
        "id": "34T1euk026A7"
      },
      "execution_count": null,
      "outputs": []
    },
    {
      "cell_type": "code",
      "source": [
        "from pyspark.sql.functions import explode\n",
        "test_data_new_array = df_test_spark_scaled.withColumn('features_array', to_array('features'))"
      ],
      "metadata": {
        "id": "rzKo4R1P28Uk"
      },
      "execution_count": null,
      "outputs": []
    },
    {
      "cell_type": "code",
      "source": [
        "import os\n",
        "MD_dir = os.path.join('/content/drive/MyDrive/DS200/Project', \"DL_Model_2\")"
      ],
      "metadata": {
        "id": "PX1jUpRlkX_f"
      },
      "execution_count": null,
      "outputs": []
    },
    {
      "cell_type": "code",
      "source": [
        "def Model_batch_fn():\n",
        "    import tensorflow as tf\n",
        "    model = tf.keras.models.load_model(MD_dir)\n",
        "    def predict(inputs: np.str_) -> np.ndarray:\n",
        "        return model.predict(inputs)\n",
        "\n",
        "    return predict"
      ],
      "metadata": {
        "id": "4mGXfJgL23UK"
      },
      "execution_count": null,
      "outputs": []
    },
    {
      "cell_type": "code",
      "source": [
        "RNN_sent = predict_batch_udf(Model_batch_fn,\n",
        "                          return_type=ArrayType(FloatType()),\n",
        "                          batch_size=16,\n",
        "                          input_tensor_shapes=[[30, ]])"
      ],
      "metadata": {
        "id": "kiEyZkY22_Mv"
      },
      "execution_count": null,
      "outputs": []
    },
    {
      "cell_type": "code",
      "source": [
        "# Apply the UDF to the combined array column\n",
        "RNN_preds = test_data_new_array.withColumn(\"preds\", RNN_sent(\"features_array\")).toPandas()"
      ],
      "metadata": {
        "id": "HUiCcq2j3Bvi"
      },
      "execution_count": null,
      "outputs": []
    },
    {
      "cell_type": "code",
      "source": [
        "from pyspark.sql.functions import udf\n",
        "from pyspark.sql.types import DoubleType, ArrayType\n",
        "from pyspark.ml.evaluation import MulticlassClassificationEvaluator # Import the missing class\n",
        "\n",
        "# Assuming your model outputs probabilities and you want the class with highest probability\n",
        "def get_predicted_class(preds):\n",
        "  return float(np.argmax(preds))  # Convert to float for DoubleType compatibility\n",
        "\n",
        "get_predicted_class_udf = udf(get_predicted_class, DoubleType())\n",
        "RNN_preds_spark = spark.createDataFrame(RNN_preds)\n",
        "# Apply the UDF to extract the predicted class from the array\n",
        "RNN_preds_spark = RNN_preds_spark.withColumn(\"preds\", get_predicted_class_udf(\"preds\"))"
      ],
      "metadata": {
        "id": "g874jQ5c3Fjs"
      },
      "execution_count": null,
      "outputs": []
    },
    {
      "cell_type": "code",
      "source": [
        "# Now evaluate the accuracy\n",
        "evaluator = MulticlassClassificationEvaluator(labelCol='Class', predictionCol='preds', metricName='accuracy')\n",
        "accuracy = evaluator.evaluate(RNN_preds_spark)\n",
        "print(f'Accuracy: {accuracy}')"
      ],
      "metadata": {
        "id": "bBXttAS1kiob"
      },
      "execution_count": null,
      "outputs": []
    },
    {
      "cell_type": "code",
      "source": [
        "evaluator = MulticlassClassificationEvaluator(labelCol='Class', predictionCol='preds', metricName='accuracy')\n",
        "predictions_label_fraud = RNN_preds_spark.filter(RNN_preds_spark.preds == 1)\n",
        "print(f'Accuracy: {evaluator.evaluate(predictions_label_fraud)}')"
      ],
      "metadata": {
        "id": "HWXDcMXQ3HU0"
      },
      "execution_count": null,
      "outputs": []
    },
    {
      "cell_type": "code",
      "source": [
        "evaluator = MulticlassClassificationEvaluator(labelCol='Class', predictionCol='preds', metricName='accuracy')\n",
        "predictions_label_fraud = RNN_preds_spark.filter(RNN_preds_spark.Class == 1)\n",
        "print(f'Accuracy: {evaluator.evaluate(predictions_label_fraud)}')"
      ],
      "metadata": {
        "id": "37K9kUvpwBlk"
      },
      "execution_count": null,
      "outputs": []
    },
    {
      "cell_type": "code",
      "source": [
        "evaluator = MulticlassClassificationEvaluator(labelCol='Class', predictionCol='preds', metricName='accuracy')\n",
        "predictions_label_fraud = RNN_preds_spark.filter(RNN_preds_spark.Class == 0)\n",
        "print(f'Accuracy: {evaluator.evaluate(predictions_label_fraud)}')"
      ],
      "metadata": {
        "id": "NwzuQqiBwbjy"
      },
      "execution_count": null,
      "outputs": []
    },
    {
      "cell_type": "code",
      "source": [
        "evaluator = MulticlassClassificationEvaluator(labelCol='Class', predictionCol='preds', metricName='accuracy')\n",
        "predictions_label_fraud = RNN_preds_spark.filter(RNN_preds_spark.preds == 0)\n",
        "print(f'Accuracy: {evaluator.evaluate(predictions_label_fraud)}')"
      ],
      "metadata": {
        "id": "1pTJExmfwymA"
      },
      "execution_count": null,
      "outputs": []
    },
    {
      "cell_type": "code",
      "source": [
        "precision_evaluator = MulticlassClassificationEvaluator(predictionCol=\"preds\", labelCol=\"Class\", metricName=\"weightedPrecision\")\n",
        "recall_evaluator = MulticlassClassificationEvaluator(predictionCol=\"preds\", labelCol=\"Class\", metricName=\"weightedRecall\")\n",
        "f1_evaluator = MulticlassClassificationEvaluator(predictionCol=\"preds\", labelCol=\"Class\", metricName=\"f1\")\n",
        "\n",
        "precision = precision_evaluator.evaluate(RNN_preds_spark)\n",
        "recall = recall_evaluator.evaluate(RNN_preds_spark)\n",
        "f1_score = f1_evaluator.evaluate(RNN_preds_spark)\n",
        "\n",
        "print(f\"Precision: {precision}\")\n",
        "print(f\"Recall: {recall}\")\n",
        "print(f\"F1-Score: {f1_score}\")"
      ],
      "metadata": {
        "id": "DchKqcx2DeaE"
      },
      "execution_count": null,
      "outputs": []
    },
    {
      "cell_type": "code",
      "source": [
        "RNN_preds_spark.filter(RNN_preds_spark.Class == 1).count()"
      ],
      "metadata": {
        "id": "1QWK4peHFPR5"
      },
      "execution_count": null,
      "outputs": []
    },
    {
      "cell_type": "code",
      "source": [
        "confusion_matrix = RNN_preds_spark.groupBy(\"Class\").pivot(\"preds\").count().fillna(0)\n",
        "confusion_matrix.show()"
      ],
      "metadata": {
        "id": "k0ogwDQVERX6"
      },
      "execution_count": null,
      "outputs": []
    },
    {
      "cell_type": "code",
      "source": [
        "# from pyspark.mllib.evaluation import MulticlassMetrics\n",
        "# matrix = RNN_preds_spark.select('Class','preds')\n",
        "# metrics = MulticlassMetrics(matrix.rdd.map(tuple))\n",
        "\n",
        "# print(metrics.confusionMatrix().toArray())"
      ],
      "metadata": {
        "id": "JCmtWvULBhtG"
      },
      "execution_count": null,
      "outputs": []
    },
    {
      "cell_type": "markdown",
      "metadata": {
        "id": "K-WoWziVFL02"
      },
      "source": [
        "# OverSampling using SMOTE library"
      ]
    },
    {
      "cell_type": "code",
      "execution_count": null,
      "metadata": {
        "id": "4-QLkBI3Ak-j"
      },
      "outputs": [],
      "source": [
        "# df_spark = df_spark.select(['V4', 'V11', 'V12', 'V14', 'V16', 'V17', 'V18', 'V19','Amount','Time','Class'])"
      ]
    },
    {
      "cell_type": "code",
      "execution_count": 16,
      "metadata": {
        "id": "yPJX8XVFFWxy"
      },
      "outputs": [],
      "source": [
        "cols_to_scale = ['Time','Amount']\n",
        "\n",
        "scaler = RobustScaler(inputCol=\"features\", outputCol=\"scaledFeatures\")\n",
        "assembler = VectorAssembler().setInputCols(cols_to_scale).setOutputCol(\"features\")\n",
        "\n",
        "df_spark_transformed = assembler.transform(train_data)\n",
        "scaler_model = scaler.fit(df_spark_transformed.select(\"features\"))\n",
        "df_spark_scaled = scaler_model.transform(df_spark_transformed)\n",
        "\n",
        "cols = ('Time','features','Amount')\n",
        "\n",
        "df_train_spark_scaled = df_spark_scaled.drop(*cols)"
      ]
    },
    {
      "cell_type": "code",
      "execution_count": 17,
      "metadata": {
        "id": "p2Ww_xtUFY7R"
      },
      "outputs": [],
      "source": [
        "df_test_spark_transformed = assembler.transform(test_data)\n",
        "df_test_spark_scaled = scaler_model.transform(df_test_spark_transformed)\n",
        "\n",
        "cols = ('Time','features','Amount')\n",
        "\n",
        "df_test_spark_scaled = df_test_spark_scaled.drop(*cols)"
      ]
    },
    {
      "cell_type": "code",
      "execution_count": 18,
      "metadata": {
        "id": "8vs9RBk4lkaK"
      },
      "outputs": [],
      "source": [
        "def vector_to_array(vector):\n",
        "    return vector.toArray().tolist()\n",
        "\n",
        "vector_to_array_udf = udf(vector_to_array, ArrayType(FloatType()))\n",
        "\n",
        "# Apply the UDF to create a new column with array type\n",
        "df_with_array = df_train_spark_scaled.withColumn(\"scaledFeatures_array\", vector_to_array_udf(df_train_spark_scaled[\"scaledFeatures\"]))\n",
        "df_test_with_array = df_test_spark_scaled.withColumn(\"scaledFeatures_array\", vector_to_array_udf(df_test_spark_scaled[\"scaledFeatures\"]))"
      ]
    },
    {
      "cell_type": "code",
      "execution_count": 19,
      "metadata": {
        "id": "owDFT5KFndYP"
      },
      "outputs": [],
      "source": [
        "# Define the number of elements in the DenseVector\n",
        "num_elements = 2  # Adjust based on your vector size\n",
        "\n",
        "# Create separate columns for each element in the array\n",
        "for i in range(num_elements):\n",
        "    df_with_array = df_with_array.withColumn(f\"feature_{i+1}\", col(\"scaledFeatures_array\")[i])\n",
        "    df_test_with_array = df_test_with_array.withColumn(f\"feature_{i+1}\", col(\"scaledFeatures_array\")[i])\n",
        "\n",
        "# Drop the temporary array column if not needed\n",
        "df_final_train = df_with_array.drop(\"scaledFeatures_array\")\n",
        "df_final_test = df_test_with_array.drop(\"scaledFeatures_array\")"
      ]
    },
    {
      "cell_type": "code",
      "execution_count": 20,
      "metadata": {
        "id": "GDQzNRYHFkOe"
      },
      "outputs": [],
      "source": [
        "# Convert to Pandas DataFrame\n",
        "train_pd_df = df_final_train.select('V1','V2','V3','V4','V5','V6','V7','V8','V9','V10','V11','V12','V13','V14','V15','V16','V17','V18','V19','V20','V21','V22','V23','V24','V25','V26','V27','V28',\"feature_1\",\"feature_2\",\"class\").toPandas()\n",
        "\n",
        "from imblearn.over_sampling import SMOTE\n",
        "\n",
        "smote = SMOTE()\n",
        "X_resampled, y_resampled = smote.fit_resample(train_pd_df[['V1','V2','V3','V4','V5','V6','V7','V8','V9','V10','V11','V12','V13','V14','V15','V16','V17','V18','V19','V20','V21','V22','V23','V24','V25','V26','V27','V28',\"feature_1\",\"feature_2\"]], train_pd_df['class'])\n",
        "\n",
        "# Convert back to PySpark DataFrame\n",
        "resampled_df = spark.createDataFrame(pd.concat([X_resampled, y_resampled], axis=1))"
      ]
    },
    {
      "cell_type": "code",
      "execution_count": 21,
      "metadata": {
        "id": "gzZ3roZhgpyw"
      },
      "outputs": [],
      "source": [
        "assembler = VectorAssembler(inputCols=['V1','V2','V3','V4','V5','V6','V7','V8','V9','V10','V11','V12','V13','V14','V15','V16','V17','V18','V19','V20','V21','V22','V23','V24','V25','V26','V27','V28',\"feature_1\",\"feature_2\"],outputCol=\"features\")\n",
        "train_data_new = assembler.transform(resampled_df)\n",
        "test_data_new = assembler.transform(df_final_test)"
      ]
    },
    {
      "cell_type": "code",
      "source": [
        "value_0 = train_data_new.filter(train_data_new[\"class\"] == 0)\n",
        "value_1 = train_data_new.filter(train_data_new[\"class\"] == 1)\n",
        "value_0.count()/train_data_new.count(), value_1.count()/train_data_new.count()"
      ],
      "metadata": {
        "colab": {
          "base_uri": "https://localhost:8080/"
        },
        "id": "nBPsprNmhyvp",
        "outputId": "3b664ab3-876e-48ce-a014-4bf8d63061ba"
      },
      "execution_count": null,
      "outputs": [
        {
          "output_type": "execute_result",
          "data": {
            "text/plain": [
              "(0.5, 0.5)"
            ]
          },
          "metadata": {},
          "execution_count": 22
        }
      ]
    },
    {
      "cell_type": "code",
      "source": [
        "train_data_new.count()"
      ],
      "metadata": {
        "colab": {
          "base_uri": "https://localhost:8080/"
        },
        "id": "E3ywgJaXi8nq",
        "outputId": "e9382d00-a5ac-49a6-dcb5-7e827565db1f"
      },
      "execution_count": null,
      "outputs": [
        {
          "output_type": "execute_result",
          "data": {
            "text/plain": [
              "454846"
            ]
          },
          "metadata": {},
          "execution_count": 23
        }
      ]
    },
    {
      "cell_type": "code",
      "source": [
        "value_0.count()"
      ],
      "metadata": {
        "colab": {
          "base_uri": "https://localhost:8080/"
        },
        "id": "Qc62iQPHi4c0",
        "outputId": "cda4270c-c59d-4ffd-c4bb-5718b5d81f5e"
      },
      "execution_count": null,
      "outputs": [
        {
          "output_type": "execute_result",
          "data": {
            "text/plain": [
              "227423"
            ]
          },
          "metadata": {},
          "execution_count": 24
        }
      ]
    },
    {
      "cell_type": "markdown",
      "source": [
        "## SVC"
      ],
      "metadata": {
        "id": "RiknnXcSPZep"
      }
    },
    {
      "cell_type": "code",
      "source": [
        "from pyspark.ml.classification import LinearSVC\n",
        "\n",
        "# Initialize the model\n",
        "lsvc = LinearSVC(labelCol='class',featuresCol='features')\n",
        "\n",
        "# Train the model\n",
        "lsvc_model = lsvc.fit(train_data_new)\n",
        "predictions = lsvc_model.transform(test_data_new)"
      ],
      "metadata": {
        "id": "HIaoOVESPa7f"
      },
      "execution_count": null,
      "outputs": []
    },
    {
      "cell_type": "code",
      "source": [
        "evaluator = MulticlassClassificationEvaluator(labelCol='Class', metricName='accuracy')\n",
        "accuracy = evaluator.evaluate(predictions)\n",
        "print(f'Accuracy: {accuracy}')"
      ],
      "metadata": {
        "colab": {
          "base_uri": "https://localhost:8080/"
        },
        "id": "xtl-KGjEPyem",
        "outputId": "14622f93-eb8f-41ba-e503-b9918c7bad5e"
      },
      "execution_count": null,
      "outputs": [
        {
          "output_type": "stream",
          "name": "stdout",
          "text": [
            "Accuracy: 0.980729066114397\n"
          ]
        }
      ]
    },
    {
      "cell_type": "code",
      "source": [
        "y_pred = predictions.select('prediction').collect()\n",
        "y_pred_array = [x[0] for x in y_pred]\n",
        "y = predictions.select('Class').collect()\n",
        "y_array = [x[0] for x in y]\n",
        "from sklearn.metrics import classification_report\n",
        "print(classification_report(y_array, y_pred_array))"
      ],
      "metadata": {
        "colab": {
          "base_uri": "https://localhost:8080/"
        },
        "id": "yXnTLupCP1FF",
        "outputId": "54f0cdd2-08a3-4bef-924a-cf9d5f9e9fdf"
      },
      "execution_count": null,
      "outputs": [
        {
          "output_type": "stream",
          "name": "stdout",
          "text": [
            "              precision    recall  f1-score   support\n",
            "\n",
            "           0       1.00      0.98      0.99     56892\n",
            "           1       0.07      0.89      0.12        85\n",
            "\n",
            "    accuracy                           0.98     56977\n",
            "   macro avg       0.53      0.94      0.56     56977\n",
            "weighted avg       1.00      0.98      0.99     56977\n",
            "\n"
          ]
        }
      ]
    },
    {
      "cell_type": "markdown",
      "metadata": {
        "id": "BMyMEpb-Bxt9"
      },
      "source": [
        "## LogisticRegression"
      ]
    },
    {
      "cell_type": "code",
      "execution_count": 22,
      "metadata": {
        "colab": {
          "base_uri": "https://localhost:8080/"
        },
        "id": "jE2WGZfjFu7s",
        "outputId": "07641ed7-a8c5-4d92-f344-653dd2bdb0d1"
      },
      "outputs": [
        {
          "output_type": "execute_result",
          "data": {
            "text/plain": [
              "DataFrame[V1: double, V2: double, V3: double, V4: double, V5: double, V6: double, V7: double, V8: double, V9: double, V10: double, V11: double, V12: double, V13: double, V14: double, V15: double, V16: double, V17: double, V18: double, V19: double, V20: double, V21: double, V22: double, V23: double, V24: double, V25: double, V26: double, V27: double, V28: double, feature_1: double, feature_2: double, class: bigint, features: vector, rawPrediction: vector, probability: vector, prediction: double]"
            ]
          },
          "metadata": {},
          "execution_count": 22
        }
      ],
      "source": [
        "lgr = LogisticRegressionSpark(labelCol='class',featuresCol='features')\n",
        "model_lgr = lgr.fit(train_data_new)\n",
        "model_lgr.transform(train_data_new)"
      ]
    },
    {
      "cell_type": "code",
      "execution_count": 23,
      "metadata": {
        "id": "yHRYuTpOBzyX"
      },
      "outputs": [],
      "source": [
        "predictions = model_lgr.transform(test_data_new)"
      ]
    },
    {
      "cell_type": "code",
      "execution_count": 24,
      "metadata": {
        "colab": {
          "base_uri": "https://localhost:8080/"
        },
        "id": "Qov_6ht0B0__",
        "outputId": "07174265-0d48-4e11-8f29-796b17815bc1"
      },
      "outputs": [
        {
          "output_type": "stream",
          "name": "stdout",
          "text": [
            "Accuracy: 0.9805886585815329\n"
          ]
        }
      ],
      "source": [
        "evaluator = MulticlassClassificationEvaluator(labelCol='Class', metricName='accuracy')\n",
        "accuracy = evaluator.evaluate(predictions)\n",
        "print(f'Accuracy: {accuracy}')"
      ]
    },
    {
      "cell_type": "code",
      "source": [
        "confusion_matrix = predictions.groupBy(\"Class\").pivot(\"prediction\").count().fillna(0)\n",
        "confusion_matrix.show()"
      ],
      "metadata": {
        "colab": {
          "base_uri": "https://localhost:8080/"
        },
        "id": "f4Sz56Fg6_HR",
        "outputId": "8eedce81-b5d6-430b-b1c2-1105881655d1"
      },
      "execution_count": 25,
      "outputs": [
        {
          "output_type": "stream",
          "name": "stdout",
          "text": [
            "+-----+-----+----+\n",
            "|Class|  0.0| 1.0|\n",
            "+-----+-----+----+\n",
            "|    1|    8|  77|\n",
            "|    0|55794|1098|\n",
            "+-----+-----+----+\n",
            "\n"
          ]
        }
      ]
    },
    {
      "cell_type": "code",
      "source": [
        "y_pred = predictions.select('prediction').collect()\n",
        "y_pred_array = [x[0] for x in y_pred]\n",
        "y = predictions.select('Class').collect()\n",
        "y_array = [x[0] for x in y]\n",
        "from sklearn.metrics import classification_report\n",
        "print(classification_report(y_array, y_pred_array))"
      ],
      "metadata": {
        "colab": {
          "base_uri": "https://localhost:8080/"
        },
        "id": "nUMMArOARYSN",
        "outputId": "53069f6c-e4ff-453e-c1f2-2fa0dc298266"
      },
      "execution_count": 26,
      "outputs": [
        {
          "output_type": "stream",
          "name": "stdout",
          "text": [
            "              precision    recall  f1-score   support\n",
            "\n",
            "           0       1.00      0.98      0.99     56892\n",
            "           1       0.07      0.91      0.12        85\n",
            "\n",
            "    accuracy                           0.98     56977\n",
            "   macro avg       0.53      0.94      0.56     56977\n",
            "weighted avg       1.00      0.98      0.99     56977\n",
            "\n"
          ]
        }
      ]
    },
    {
      "cell_type": "code",
      "source": [
        "from sklearn.metrics import precision_recall_curve, auc\n",
        "precision, recall, _ = precision_recall_curve(y_array, y_pred_array)\n",
        "\n",
        "# Calculate the area under the precision-recall curve\n",
        "auprc = auc(recall, precision)\n",
        "\n",
        "print(f\"Area Under the Precision-Recall Curve (AUPRC): {auprc:.2f}\")"
      ],
      "metadata": {
        "colab": {
          "base_uri": "https://localhost:8080/"
        },
        "id": "YU8xjbZj_B76",
        "outputId": "e7ee1f67-7532-49e8-d30d-f9833f806f2b"
      },
      "execution_count": 27,
      "outputs": [
        {
          "output_type": "stream",
          "name": "stdout",
          "text": [
            "Area Under the Precision-Recall Curve (AUPRC): 0.49\n"
          ]
        }
      ]
    },
    {
      "cell_type": "code",
      "source": [
        "auc = roc_auc_score(y_array, y_pred_array)\n",
        "print(\"AUC-ROC:\", auc)"
      ],
      "metadata": {
        "colab": {
          "base_uri": "https://localhost:8080/"
        },
        "id": "cphhgOd3C52w",
        "outputId": "29eee307-e3df-426c-8c39-4eff8dae8f25"
      },
      "execution_count": 28,
      "outputs": [
        {
          "output_type": "stream",
          "name": "stdout",
          "text": [
            "AUC-ROC: 0.9432913135724654\n"
          ]
        }
      ]
    },
    {
      "cell_type": "markdown",
      "metadata": {
        "id": "-paoS2kABuRO"
      },
      "source": [
        "## RandomForestClassifier"
      ]
    },
    {
      "cell_type": "markdown",
      "source": [
        "### Chọn tham số"
      ],
      "metadata": {
        "id": "G3BZMxuBanQ2"
      }
    },
    {
      "cell_type": "code",
      "source": [
        "rf = RandomForestClassifierSpark(labelCol='class',featuresCol='features')\n",
        "paramGrid = (ParamGridBuilder()\n",
        "             .addGrid(rf.numTrees, [10,20,50,100,180]).build())\n",
        "\n",
        "# Set up the CrossValidator\n",
        "crossval = CrossValidator(estimator=rf,\n",
        "                          estimatorParamMaps=paramGrid,\n",
        "                          evaluator=MulticlassClassificationEvaluator(labelCol='class', metricName='accuracy'),\n",
        "                          numFolds=5)"
      ],
      "metadata": {
        "id": "ScitG6ZWaolj"
      },
      "execution_count": null,
      "outputs": []
    },
    {
      "cell_type": "code",
      "source": [
        "cvModel = crossval.fit(train_data_new)"
      ],
      "metadata": {
        "colab": {
          "base_uri": "https://localhost:8080/"
        },
        "id": "GkrQRNlBsEzv",
        "outputId": "1efd8552-e0e8-4106-e3b8-18bc9e4e76a1"
      },
      "execution_count": null,
      "outputs": [
        {
          "output_type": "stream",
          "name": "stderr",
          "text": [
            "INFO:py4j.clientserver:Closing down clientserver connection\n",
            "INFO:py4j.clientserver:Closing down clientserver connection\n",
            "2024-06-28 05:34:07,420 - py4j.clientserver - INFO - Closing down clientserver connection\n",
            "2024-06-28 05:34:07,423 - py4j.clientserver - INFO - Closing down clientserver connection\n"
          ]
        }
      ]
    },
    {
      "cell_type": "code",
      "source": [
        "bestModel = cvModel.bestModel"
      ],
      "metadata": {
        "id": "_FKg5BVvZnQ5"
      },
      "execution_count": null,
      "outputs": []
    },
    {
      "cell_type": "code",
      "source": [
        "bestModel"
      ],
      "metadata": {
        "colab": {
          "base_uri": "https://localhost:8080/"
        },
        "id": "GepQdvgaBQPO",
        "outputId": "cb9aad71-272e-4519-91eb-afef7f8e3e51"
      },
      "execution_count": null,
      "outputs": [
        {
          "output_type": "execute_result",
          "data": {
            "text/plain": [
              "RandomForestClassificationModel: uid=RandomForestClassifier_261ab09084eb, numTrees=10, numClasses=2, numFeatures=30"
            ]
          },
          "metadata": {},
          "execution_count": 29
        }
      ]
    },
    {
      "cell_type": "code",
      "source": [
        "bestModel.save(\"SMOTE_Li_BestModel_RandomFR\")"
      ],
      "metadata": {
        "id": "0zT4szIsBR-Q"
      },
      "execution_count": null,
      "outputs": []
    },
    {
      "cell_type": "code",
      "source": [
        "# Evaluate the best model on the test data\n",
        "bestModel.transform(train_data_new)\n",
        "predictions = bestModel.transform(test_data_new)\n",
        "\n",
        "y_pred = predictions.select('prediction').collect()\n",
        "y_pred_array = [x[0] for x in y_pred]\n",
        "y = predictions.select('class').collect()\n",
        "y_array = [x[0] for x in y]\n",
        "from sklearn.metrics import classification_report\n",
        "print(classification_report(y_array, y_pred_array))"
      ],
      "metadata": {
        "colab": {
          "base_uri": "https://localhost:8080/"
        },
        "id": "MA93pbXOauqE",
        "outputId": "a5b6a5b5-5ef4-4040-e1bb-a293347ae833"
      },
      "execution_count": null,
      "outputs": [
        {
          "output_type": "stream",
          "name": "stdout",
          "text": [
            "              precision    recall  f1-score   support\n",
            "\n",
            "           0       1.00      1.00      1.00     56892\n",
            "           1       0.21      0.84      0.33        85\n",
            "\n",
            "    accuracy                           0.99     56977\n",
            "   macro avg       0.60      0.92      0.66     56977\n",
            "weighted avg       1.00      0.99      1.00     56977\n",
            "\n"
          ]
        }
      ]
    },
    {
      "cell_type": "code",
      "source": [
        "confusion_matrix = predictions.groupBy(\"class\").pivot(\"prediction\").count().fillna(0)\n",
        "confusion_matrix.show()"
      ],
      "metadata": {
        "colab": {
          "base_uri": "https://localhost:8080/"
        },
        "id": "EBVB47AXaw7-",
        "outputId": "37d53883-d751-419b-b880-98cd2e5973cd"
      },
      "execution_count": null,
      "outputs": [
        {
          "output_type": "stream",
          "name": "stdout",
          "text": [
            "+-----+-----+---+\n",
            "|class|  0.0|1.0|\n",
            "+-----+-----+---+\n",
            "|    1|   14| 71|\n",
            "|    0|56620|272|\n",
            "+-----+-----+---+\n",
            "\n"
          ]
        }
      ]
    },
    {
      "cell_type": "code",
      "source": [
        "from sklearn.metrics import precision_recall_curve, auc\n",
        "precision, recall, _ = precision_recall_curve(y_array, y_pred_array)\n",
        "\n",
        "# Calculate the area under the precision-recall curve\n",
        "auprc = auc(recall, precision)\n",
        "\n",
        "print(f\"Area Under the Precision-Recall Curve (AUPRC): {auprc:.2f}\")"
      ],
      "metadata": {
        "colab": {
          "base_uri": "https://localhost:8080/"
        },
        "id": "fsOTtKx9azQ1",
        "outputId": "66d884a6-c12a-40a2-943e-15d25d23278e"
      },
      "execution_count": null,
      "outputs": [
        {
          "output_type": "stream",
          "name": "stdout",
          "text": [
            "Area Under the Precision-Recall Curve (AUPRC): 0.52\n"
          ]
        }
      ]
    },
    {
      "cell_type": "markdown",
      "source": [
        "### Không chọn tham số"
      ],
      "metadata": {
        "id": "fLbRmJCmakfK"
      }
    },
    {
      "cell_type": "code",
      "execution_count": 29,
      "metadata": {
        "colab": {
          "base_uri": "https://localhost:8080/"
        },
        "id": "9nBF05u-u7UT",
        "outputId": "162ba474-e1ae-4616-b09c-212383f19525"
      },
      "outputs": [
        {
          "output_type": "execute_result",
          "data": {
            "text/plain": [
              "DataFrame[V1: double, V2: double, V3: double, V4: double, V5: double, V6: double, V7: double, V8: double, V9: double, V10: double, V11: double, V12: double, V13: double, V14: double, V15: double, V16: double, V17: double, V18: double, V19: double, V20: double, V21: double, V22: double, V23: double, V24: double, V25: double, V26: double, V27: double, V28: double, feature_1: double, feature_2: double, class: bigint, features: vector, rawPrediction: vector, probability: vector, prediction: double]"
            ]
          },
          "metadata": {},
          "execution_count": 29
        }
      ],
      "source": [
        "from pyspark.ml.classification import RandomForestClassifier\n",
        "rf = RandomForestClassifier(labelCol='class',featuresCol='features')\n",
        "model_rf = rf.fit(train_data_new)\n",
        "model_rf.transform(train_data_new)"
      ]
    },
    {
      "cell_type": "code",
      "execution_count": 30,
      "metadata": {
        "id": "PaQgqP3jhZvz"
      },
      "outputs": [],
      "source": [
        "predictions = model_rf.transform(test_data_new)"
      ]
    },
    {
      "cell_type": "code",
      "execution_count": 31,
      "metadata": {
        "colab": {
          "base_uri": "https://localhost:8080/"
        },
        "id": "y82SLiXohXN7",
        "outputId": "e80e3bc4-3da6-43a0-b55a-b36e51433354"
      },
      "outputs": [
        {
          "output_type": "stream",
          "name": "stdout",
          "text": [
            "Accuracy: 0.9970514418098531\n"
          ]
        }
      ],
      "source": [
        "evaluator = MulticlassClassificationEvaluator(labelCol='Class', metricName='accuracy')\n",
        "accuracy = evaluator.evaluate(predictions)\n",
        "print(f'Accuracy: {accuracy}')"
      ]
    },
    {
      "cell_type": "code",
      "source": [
        "confusion_matrix = predictions.groupBy(\"Class\").pivot(\"prediction\").count().fillna(0)\n",
        "confusion_matrix.show()"
      ],
      "metadata": {
        "colab": {
          "base_uri": "https://localhost:8080/"
        },
        "id": "x65tZymq7Evj",
        "outputId": "fbf25063-1088-4339-b605-a37a5208215a"
      },
      "execution_count": 32,
      "outputs": [
        {
          "output_type": "stream",
          "name": "stdout",
          "text": [
            "+-----+-----+---+\n",
            "|Class|  0.0|1.0|\n",
            "+-----+-----+---+\n",
            "|    1|   13| 72|\n",
            "|    0|56737|155|\n",
            "+-----+-----+---+\n",
            "\n"
          ]
        }
      ]
    },
    {
      "cell_type": "code",
      "source": [
        "y_pred = predictions.select('prediction').collect()\n",
        "y_pred_array = [x[0] for x in y_pred]\n",
        "y = predictions.select('Class').collect()\n",
        "y_array = [x[0] for x in y]\n",
        "from sklearn.metrics import classification_report\n",
        "print(classification_report(y_array, y_pred_array))"
      ],
      "metadata": {
        "colab": {
          "base_uri": "https://localhost:8080/"
        },
        "id": "MqO0w73UhM9H",
        "outputId": "a5a25247-2c1d-4853-cfc2-174ca59b3411"
      },
      "execution_count": 33,
      "outputs": [
        {
          "output_type": "stream",
          "name": "stdout",
          "text": [
            "              precision    recall  f1-score   support\n",
            "\n",
            "           0       1.00      1.00      1.00     56892\n",
            "           1       0.32      0.85      0.46        85\n",
            "\n",
            "    accuracy                           1.00     56977\n",
            "   macro avg       0.66      0.92      0.73     56977\n",
            "weighted avg       1.00      1.00      1.00     56977\n",
            "\n"
          ]
        }
      ]
    },
    {
      "cell_type": "code",
      "source": [
        "from sklearn.metrics import precision_recall_curve, auc\n",
        "precision, recall, _ = precision_recall_curve(y_array, y_pred_array)\n",
        "\n",
        "# Calculate the area under the precision-recall curve\n",
        "auprc = auc(recall, precision)\n",
        "\n",
        "print(f\"Area Under the Precision-Recall Curve (AUPRC): {auprc:.2f}\")"
      ],
      "metadata": {
        "colab": {
          "base_uri": "https://localhost:8080/"
        },
        "id": "de_A3E5N_IKQ",
        "outputId": "94a2b71d-f833-4bfb-bd34-e18edea52dfc"
      },
      "execution_count": 34,
      "outputs": [
        {
          "output_type": "stream",
          "name": "stdout",
          "text": [
            "Area Under the Precision-Recall Curve (AUPRC): 0.58\n"
          ]
        }
      ]
    },
    {
      "cell_type": "code",
      "source": [
        "auc = roc_auc_score(y_array, y_pred_array)\n",
        "print(\"AUC-ROC:\", auc)"
      ],
      "metadata": {
        "colab": {
          "base_uri": "https://localhost:8080/"
        },
        "id": "NBLyS3bIC88r",
        "outputId": "a3956a35-d4b3-4b3c-9da3-33b5d8bbb092"
      },
      "execution_count": 35,
      "outputs": [
        {
          "output_type": "stream",
          "name": "stdout",
          "text": [
            "AUC-ROC: 0.9221671815741695\n"
          ]
        }
      ]
    },
    {
      "cell_type": "markdown",
      "source": [
        "# XGBoost"
      ],
      "metadata": {
        "id": "epPwvqiDLDYL"
      }
    },
    {
      "cell_type": "code",
      "source": [
        "from pyspark.ml.feature import PCA"
      ],
      "metadata": {
        "id": "zJz0SSusfa9A"
      },
      "execution_count": null,
      "outputs": []
    },
    {
      "cell_type": "code",
      "source": [
        "from xgboost.spark import SparkXGBClassifier\n",
        "\n",
        "spark_reg_estimator = SparkXGBClassifier(\n",
        "  features_col=\"features\",\n",
        "  label_col=\"Class\",\n",
        "  num_workers=1,\n",
        ")"
      ],
      "metadata": {
        "id": "GH1M0GyeLitX"
      },
      "execution_count": null,
      "outputs": []
    },
    {
      "cell_type": "code",
      "source": [
        "from pyspark.ml.tuning import ParamGridBuilder\n",
        "\n",
        "paramGrid = (ParamGridBuilder()\n",
        "            .addGrid(spark_reg_estimator.n_estimators, [int(v) for v in np.arange(50, 200, 50)])\n",
        "            .addGrid(spark_reg_estimator.max_depth,[4, 6, 8, 10])\n",
        "            .build())"
      ],
      "metadata": {
        "id": "2dGhpI1u9JBt"
      },
      "execution_count": null,
      "outputs": []
    },
    {
      "cell_type": "code",
      "source": [
        "from pyspark.ml.evaluation import MulticlassClassificationEvaluator\n",
        "from pyspark.ml.tuning import CrossValidator\n",
        "\n",
        "evaluator = MulticlassClassificationEvaluator(labelCol=\"Class\", predictionCol=\"prediction\", metricName=\"accuracy\")\n",
        "\n",
        "crossval_xgb = CrossValidator(estimator=spark_reg_estimator,\n",
        "                          estimatorParamMaps=paramGrid,\n",
        "                          evaluator=evaluator,\n",
        "                          numFolds=3)"
      ],
      "metadata": {
        "id": "1YtQDhuh9LFH"
      },
      "execution_count": null,
      "outputs": []
    },
    {
      "cell_type": "code",
      "source": [
        "# scaler = RobustScaler(inputCol=\"features_T_A\", outputCol=\"scaledFeatures\")\n",
        "scaler_Standard = StandardScaler(inputCol=\"features_T_A\", outputCol=\"scaledFeatures\")\n",
        "assembler = VectorAssembler().setInputCols(['Time','Amount']).setOutputCol(\"features_T_A\")\n",
        "assembler_2 = VectorAssembler().setInputCols(['V1','V2','V3','V4','V5','V6','V7','V8','V9','V10','V11','V12','V13','V14','V15','V16','V17','V18','V19','V20','V21','V22','V23','V24','V25','V26','V27','V28',\"scaledFeatures\"]).setOutputCol(\"features\")\n",
        "# pca = PCA(k=2, inputCol=\"scaledFeatures\", outputCol=\"pcaFeatures\")\n",
        "pipeline = Pipeline( stages = [assembler,scaler_Standard,assembler_2,spark_reg_estimator])"
      ],
      "metadata": {
        "id": "CrnkvqOSLFPQ"
      },
      "execution_count": null,
      "outputs": []
    },
    {
      "cell_type": "code",
      "source": [
        "model = pipeline.fit(train_data)"
      ],
      "metadata": {
        "colab": {
          "base_uri": "https://localhost:8080/"
        },
        "id": "OSMqXy5zLU7I",
        "outputId": "8e3ec72c-2c3c-4936-daf8-9379dd920fbf"
      },
      "execution_count": null,
      "outputs": [
        {
          "output_type": "stream",
          "name": "stderr",
          "text": [
            "INFO:XGBoost-PySpark:Running xgboost-2.0.3 on 1 workers with\n",
            "\tbooster params: {'objective': 'binary:logistic', 'device': 'cpu', 'nthread': 1}\n",
            "\ttrain_call_kwargs_params: {'verbose_eval': True, 'num_boost_round': 100}\n",
            "\tdmatrix_kwargs: {'nthread': 1, 'missing': nan}\n",
            "2024-07-02 03:02:36,526 - XGBoost-PySpark - INFO - Running xgboost-2.0.3 on 1 workers with\n",
            "\tbooster params: {'objective': 'binary:logistic', 'device': 'cpu', 'nthread': 1}\n",
            "\ttrain_call_kwargs_params: {'verbose_eval': True, 'num_boost_round': 100}\n",
            "\tdmatrix_kwargs: {'nthread': 1, 'missing': nan}\n",
            "INFO:XGBoost-PySpark:Finished xgboost training!\n",
            "2024-07-02 03:02:59,674 - XGBoost-PySpark - INFO - Finished xgboost training!\n"
          ]
        }
      ]
    },
    {
      "cell_type": "code",
      "source": [
        "model.stages[-1].params"
      ],
      "metadata": {
        "id": "N2xBKhgC_5I6"
      },
      "execution_count": null,
      "outputs": []
    },
    {
      "cell_type": "code",
      "source": [
        "result = model.transform(test_data)"
      ],
      "metadata": {
        "id": "KWzC89IlLXwG"
      },
      "execution_count": null,
      "outputs": []
    },
    {
      "cell_type": "code",
      "source": [
        "y_pred = result.select('prediction').collect()\n",
        "y_pred_array = [x[0] for x in y_pred]"
      ],
      "metadata": {
        "id": "3WKABAqQL2oA"
      },
      "execution_count": null,
      "outputs": []
    },
    {
      "cell_type": "code",
      "source": [
        "y = test_data.select('Class').collect()\n",
        "y_array = [x[0] for x in y]"
      ],
      "metadata": {
        "id": "oBcuEhQaL3zL"
      },
      "execution_count": null,
      "outputs": []
    },
    {
      "cell_type": "code",
      "source": [
        "from sklearn.metrics import classification_report\n",
        "print(classification_report(y_array, y_pred_array))"
      ],
      "metadata": {
        "id": "XjLgTh6hL4_G",
        "colab": {
          "base_uri": "https://localhost:8080/"
        },
        "outputId": "f3f73152-e68d-48a5-ad62-77258552ba84"
      },
      "execution_count": null,
      "outputs": [
        {
          "output_type": "stream",
          "name": "stdout",
          "text": [
            "              precision    recall  f1-score   support\n",
            "\n",
            "           0       1.00      1.00      1.00     56892\n",
            "           1       0.94      0.78      0.85        85\n",
            "\n",
            "    accuracy                           1.00     56977\n",
            "   macro avg       0.97      0.89      0.93     56977\n",
            "weighted avg       1.00      1.00      1.00     56977\n",
            "\n"
          ]
        }
      ]
    },
    {
      "cell_type": "code",
      "source": [
        "auc = roc_auc_score(y_array, y_pred_array)\n",
        "print(\"AUC-ROC:\", auc)"
      ],
      "metadata": {
        "colab": {
          "base_uri": "https://localhost:8080/"
        },
        "id": "GagOzTOwZL8G",
        "outputId": "c577bddb-72c1-48c4-ceca-0eb81be71b7c"
      },
      "execution_count": null,
      "outputs": [
        {
          "output_type": "stream",
          "name": "stdout",
          "text": [
            "AUC-ROC: 0.8882001397901492\n"
          ]
        }
      ]
    },
    {
      "cell_type": "markdown",
      "source": [
        "# SVC"
      ],
      "metadata": {
        "id": "c2y089-GXRS2"
      }
    },
    {
      "cell_type": "code",
      "source": [
        "from xgboost.spark import SparkXGBClassifier\n",
        "from pyspark.ml.classification import LinearSVC, LogisticRegression\n",
        "lsvc_estimator = LinearSVC(labelCol='Class',featuresCol='features')\n",
        "lgr_estimator = LogisticRegressionSpark(labelCol='Class',featuresCol='features')"
      ],
      "metadata": {
        "id": "ousE90xUXmp_"
      },
      "execution_count": null,
      "outputs": []
    },
    {
      "cell_type": "code",
      "source": [
        "\n",
        "spark_reg_estimator = SparkXGBClassifier(\n",
        "  features_col=\"features\",\n",
        "  label_col=\"Class\",\n",
        "  num_workers=1,\n",
        ")"
      ],
      "metadata": {
        "id": "4uf77y2FbBGr"
      },
      "execution_count": null,
      "outputs": []
    },
    {
      "cell_type": "code",
      "source": [
        "# scaler = RobustScaler(inputCol=\"features_T_A\", outputCol=\"scaledFeatures\")\n",
        "scaler_Standard = StandardScaler(inputCol=\"features_T_A\", outputCol=\"scaledFeatures\")\n",
        "assembler = VectorAssembler().setInputCols(['Time','Amount']).setOutputCol(\"features_T_A\")\n",
        "assembler_2 = VectorAssembler().setInputCols(['V1','V2','V3','V4','V5','V6','V7','V8','V9','V10','V11','V12','V13','V14','V15','V16','V17','V18','V19','V20','V21','V22','V23','V24','V25','V26','V27','V28',\"scaledFeatures\"]).setOutputCol(\"features\")\n",
        "# pca = PCA(k=2, inputCol=\"scaledFeatures\", outputCol=\"pcaFeatures\")\n",
        "pipeline = Pipeline( stages = [assembler,scaler_Standard,assembler_2,lsvc_estimator])"
      ],
      "metadata": {
        "id": "Ad2D5hO0XSra"
      },
      "execution_count": null,
      "outputs": []
    },
    {
      "cell_type": "code",
      "source": [
        "model = pipeline.fit(train_data)"
      ],
      "metadata": {
        "id": "27FlKs9yXZh2"
      },
      "execution_count": null,
      "outputs": []
    },
    {
      "cell_type": "code",
      "source": [
        "result = model.transform(test_data)"
      ],
      "metadata": {
        "id": "5yztba_XXa31"
      },
      "execution_count": null,
      "outputs": []
    },
    {
      "cell_type": "markdown",
      "source": [
        "SVC"
      ],
      "metadata": {
        "id": "ZrnCtJ1Ig6tV"
      }
    },
    {
      "cell_type": "code",
      "source": [
        "y_pred = result.select('prediction').collect()\n",
        "y_pred_array = [x[0] for x in y_pred]\n",
        "y = test_data.select('Class').collect()\n",
        "y_array = [x[0] for x in y]\n",
        "from sklearn.metrics import classification_report\n",
        "print(classification_report(y_array, y_pred_array))"
      ],
      "metadata": {
        "colab": {
          "base_uri": "https://localhost:8080/"
        },
        "id": "tLsdxkbDgpBN",
        "outputId": "7aa77445-2876-4b24-8dec-0a6f6abbfe44"
      },
      "execution_count": null,
      "outputs": [
        {
          "output_type": "stream",
          "name": "stdout",
          "text": [
            "              precision    recall  f1-score   support\n",
            "\n",
            "           0       1.00      1.00      1.00     56892\n",
            "           1       0.79      0.74      0.76        85\n",
            "\n",
            "    accuracy                           1.00     56977\n",
            "   macro avg       0.89      0.87      0.88     56977\n",
            "weighted avg       1.00      1.00      1.00     56977\n",
            "\n"
          ]
        }
      ]
    },
    {
      "cell_type": "code",
      "source": [
        "from sklearn.metrics import precision_recall_curve, auc\n",
        "precision, recall, _ = precision_recall_curve(y_array, y_pred_array)\n",
        "\n",
        "# Calculate the area under the precision-recall curve\n",
        "auprc = auc(recall, precision)\n",
        "\n",
        "print(f\"Area Under the Precision-Recall Curve (AUPRC): {auprc:.2f}\")"
      ],
      "metadata": {
        "colab": {
          "base_uri": "https://localhost:8080/"
        },
        "id": "4D0kQf5OGP8D",
        "outputId": "505699f9-00c6-4727-ff12-fda9635102a6"
      },
      "execution_count": null,
      "outputs": [
        {
          "output_type": "stream",
          "name": "stdout",
          "text": [
            "Area Under the Precision-Recall Curve (AUPRC): 0.76\n"
          ]
        }
      ]
    },
    {
      "cell_type": "code",
      "source": [
        "auc = roc_auc_score(y_array, y_pred_array)\n",
        "print(\"AUC-ROC:\", auc)"
      ],
      "metadata": {
        "colab": {
          "base_uri": "https://localhost:8080/"
        },
        "id": "Z6luMYObbNhY",
        "outputId": "9dd7f93f-eb29-4806-966d-aeaa8bd093e7"
      },
      "execution_count": null,
      "outputs": [
        {
          "output_type": "stream",
          "name": "stdout",
          "text": [
            "AUC-ROC: 0.8704388294022524\n"
          ]
        }
      ]
    }
  ],
  "metadata": {
    "colab": {
      "collapsed_sections": [
        "20tOfoiXLkmS",
        "pmo_454T_nAQ",
        "NmPV8Sk_VOPk",
        "6wCKUCMsyfXQ",
        "c-kLJEPA4be4",
        "8sTkNJUPZ6Jl",
        "w2r7y2wkbkNI",
        "pNhPifM4xzbR",
        "6xjA_xN6ZVy6",
        "L7unoG7cZSxt",
        "-_toas0SyRqO",
        "cC1o-u5pX23_",
        "K-WoWziVFL02",
        "RiknnXcSPZep",
        "BMyMEpb-Bxt9",
        "G3BZMxuBanQ2",
        "epPwvqiDLDYL",
        "c2y089-GXRS2"
      ],
      "provenance": []
    },
    "kernelspec": {
      "display_name": "Python 3",
      "name": "python3"
    },
    "language_info": {
      "name": "python"
    }
  },
  "nbformat": 4,
  "nbformat_minor": 0
}